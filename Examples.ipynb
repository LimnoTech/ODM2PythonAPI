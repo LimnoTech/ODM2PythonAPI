{
 "cells": [
  {
   "cell_type": "code",
   "execution_count": 8,
   "metadata": {},
   "outputs": [],
   "source": [
    "################################################################################\n",
    "### Step 1 Initializing API                                                  ###\n",
    "################################################################################\n",
    "\n",
    "#The API uses the ORM capability of SQLAlchemy to automatically generate objects\n",
    "#based on the structure of the database. To use or even import the API we must\n",
    "#first initialize it.\n",
    "\n",
    "#Step 1 - import the function 'init_api' and use to initalize the rest of the api\n",
    "from odm2api import init_api \n",
    "from sqlalchemy import create_engine\n",
    "\n",
    "engine = create_engine('INSERT CONNECTION STRING HERE')\n",
    "init_api(engine)\n",
    "\n",
    "#step 2 - now that the api is initialized, import ODM2Models and ODM2Services\n",
    "from odm2api.base import ODM2Models as models\n",
    "\n",
    "#step 3 - create our services object\n",
    "from odm2api.base import ODM2Services\n",
    "from sqlalchemy.orm.session import sessionmaker\n",
    "\n",
    "session_maker = sessionmaker(bind=engine)\n",
    "services = ODM2Services(session_maker=session_maker)"
   ]
  },
  {
   "cell_type": "code",
   "execution_count": 9,
   "metadata": {},
   "outputs": [],
   "source": [
    "################################################################################\n",
    "### Step 2 - Basic CRUD operations                                           ###\n",
    "################################################################################"
   ]
  },
  {
   "cell_type": "code",
   "execution_count": 10,
   "metadata": {},
   "outputs": [
    {
     "data": {
      "text/plain": [
       "<sqlalchemy.ext.automap.People at 0x21ca8918710>"
      ]
     },
     "execution_count": 10,
     "metadata": {},
     "output_type": "execute_result"
    }
   ],
   "source": [
    "### C - create\n",
    "\n",
    "#let's start by adding a new person to the database\n",
    "person = models.People(\n",
    "    PersonFirstName=\"Test\",\n",
    "    PersonMiddleName=\"T\",\n",
    "    PersonLastName=\"Testerson\"\n",
    ")\n",
    "\n",
    "#create (write obj data to database) using the create_obj method under create services\n",
    "services.create.create_obj(person)"
   ]
  },
  {
   "cell_type": "code",
   "execution_count": 11,
   "metadata": {},
   "outputs": [
    {
     "name": "stdout",
     "output_type": "stream",
     "text": [
      "(3, 'Test', 'T', 'Testerson')\n"
     ]
    }
   ],
   "source": [
    "### R - read\n",
    "\n",
    "#read a list from query set\n",
    "results = services.read.read_queryset(models.People)\n",
    "for result in results:\n",
    "    print(result)"
   ]
  },
  {
   "cell_type": "code",
   "execution_count": 12,
   "metadata": {},
   "outputs": [
    {
     "data": {
      "text/html": [
       "<div>\n",
       "<style scoped>\n",
       "    .dataframe tbody tr th:only-of-type {\n",
       "        vertical-align: middle;\n",
       "    }\n",
       "\n",
       "    .dataframe tbody tr th {\n",
       "        vertical-align: top;\n",
       "    }\n",
       "\n",
       "    .dataframe thead th {\n",
       "        text-align: right;\n",
       "    }\n",
       "</style>\n",
       "<table border=\"1\" class=\"dataframe\">\n",
       "  <thead>\n",
       "    <tr style=\"text-align: right;\">\n",
       "      <th></th>\n",
       "      <th>PersonID</th>\n",
       "      <th>PersonFirstName</th>\n",
       "      <th>PersonMiddleName</th>\n",
       "      <th>PersonLastName</th>\n",
       "    </tr>\n",
       "  </thead>\n",
       "  <tbody>\n",
       "    <tr>\n",
       "      <th>0</th>\n",
       "      <td>3</td>\n",
       "      <td>Test</td>\n",
       "      <td>T</td>\n",
       "      <td>Testerson</td>\n",
       "    </tr>\n",
       "  </tbody>\n",
       "</table>\n",
       "</div>"
      ],
      "text/plain": [
       "   PersonID PersonFirstName PersonMiddleName PersonLastName\n",
       "0         3            Test                T      Testerson"
      ]
     },
     "execution_count": 12,
     "metadata": {},
     "output_type": "execute_result"
    }
   ],
   "source": [
    "#read as a data frame\n",
    "results = services.read.read_dataframe(models.People)\n",
    "results"
   ]
  },
  {
   "cell_type": "code",
   "execution_count": 13,
   "metadata": {},
   "outputs": [
    {
     "data": {
      "text/html": [
       "<div>\n",
       "<style scoped>\n",
       "    .dataframe tbody tr th:only-of-type {\n",
       "        vertical-align: middle;\n",
       "    }\n",
       "\n",
       "    .dataframe tbody tr th {\n",
       "        vertical-align: top;\n",
       "    }\n",
       "\n",
       "    .dataframe thead th {\n",
       "        text-align: right;\n",
       "    }\n",
       "</style>\n",
       "<table border=\"1\" class=\"dataframe\">\n",
       "  <thead>\n",
       "    <tr style=\"text-align: right;\">\n",
       "      <th></th>\n",
       "      <th>PersonID</th>\n",
       "      <th>PersonFirstName</th>\n",
       "      <th>PersonMiddleName</th>\n",
       "      <th>PersonLastName</th>\n",
       "    </tr>\n",
       "  </thead>\n",
       "  <tbody>\n",
       "    <tr>\n",
       "      <th>0</th>\n",
       "      <td>3</td>\n",
       "      <td>John</td>\n",
       "      <td>Q</td>\n",
       "      <td>Sample</td>\n",
       "    </tr>\n",
       "  </tbody>\n",
       "</table>\n",
       "</div>"
      ],
      "text/plain": [
       "   PersonID PersonFirstName PersonMiddleName PersonLastName\n",
       "0         3            John                Q         Sample"
      ]
     },
     "execution_count": 13,
     "metadata": {},
     "output_type": "execute_result"
    }
   ],
   "source": [
    "### U - update\n",
    "\n",
    "#lets change the data from of our person\n",
    "person.PersonFirstName = \"John\"\n",
    "person.PersonMiddleName = \"Q\"\n",
    "person.PersonLastName = \"Sample\"\n",
    "\n",
    "services.update.update(person)\n",
    "\n",
    "results = services.read.read_dataframe(person)\n",
    "results.head()"
   ]
  },
  {
   "cell_type": "code",
   "execution_count": 14,
   "metadata": {},
   "outputs": [
    {
     "data": {
      "text/html": [
       "<div>\n",
       "<style scoped>\n",
       "    .dataframe tbody tr th:only-of-type {\n",
       "        vertical-align: middle;\n",
       "    }\n",
       "\n",
       "    .dataframe tbody tr th {\n",
       "        vertical-align: top;\n",
       "    }\n",
       "\n",
       "    .dataframe thead th {\n",
       "        text-align: right;\n",
       "    }\n",
       "</style>\n",
       "<table border=\"1\" class=\"dataframe\">\n",
       "  <thead>\n",
       "    <tr style=\"text-align: right;\">\n",
       "      <th></th>\n",
       "      <th>PersonID</th>\n",
       "      <th>PersonFirstName</th>\n",
       "      <th>PersonMiddleName</th>\n",
       "      <th>PersonLastName</th>\n",
       "    </tr>\n",
       "  </thead>\n",
       "  <tbody>\n",
       "  </tbody>\n",
       "</table>\n",
       "</div>"
      ],
      "text/plain": [
       "Empty DataFrame\n",
       "Columns: [PersonID, PersonFirstName, PersonMiddleName, PersonLastName]\n",
       "Index: []"
      ]
     },
     "execution_count": 14,
     "metadata": {},
     "output_type": "execute_result"
    }
   ],
   "source": [
    "### D - delete\n",
    "\n",
    "#let's delete the person we just created\n",
    "services.delete.remove(person)\n",
    "\n",
    "results = services.read.read_dataframe(person)\n",
    "results.head()"
   ]
  }
 ],
 "metadata": {
  "kernelspec": {
   "display_name": "Python 3",
   "language": "python",
   "name": "python3"
  },
  "language_info": {
   "codemirror_mode": {
    "name": "ipython",
    "version": 3
   },
   "file_extension": ".py",
   "mimetype": "text/x-python",
   "name": "python",
   "nbconvert_exporter": "python",
   "pygments_lexer": "ipython3",
   "version": "3.6.10"
  }
 },
 "nbformat": 4,
 "nbformat_minor": 4
}
