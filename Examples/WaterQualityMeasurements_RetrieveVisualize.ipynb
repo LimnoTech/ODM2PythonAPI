{
 "cells": [
  {
   "cell_type": "markdown",
   "metadata": {},
   "source": [
    "# ODM2 API: Retrieve, manipulate and visualize ODM2 water quality measurement-type data"
   ]
  },
  {
   "cell_type": "markdown",
   "metadata": {},
   "source": [
    "This example shows how to connect to an ODM2 database using the ODM2 Python API, retrieve data, and use it for analysis or visualization. The [database (iUTAHGAMUT_waterquality_measurementresults_ODM2.sqlite)](https://github.com/ODM2/ODM2PythonAPI/blob/master/Examples/data/iUTAHGAMUT_waterquality_measurementresults_ODM2.sqlite) contains [\"measurement\"-type results](http://vocabulary.odm2.org/resulttype/measurement/).\n",
    "\n",
    "This example uses SQLite for the database because it doesn't require a server. However, the ODM2 Python API demonstrated here can alse be used with ODM2 databases implemented in MySQL, PostgresSQL or Microsoft SQL Server.\n",
    "\n",
    "More details on the ODM2 Python API and its source code and latest development can be found at: https://github.com/ODM2/ODM2PythonAPI\n",
    "\n",
    "[Emilio Mayorga](https://github.com/emiliom/). Last udpated 9/23/2018."
   ]
  },
  {
   "cell_type": "markdown",
   "metadata": {},
   "source": [
    "Adapted from notebook https://github.com/BiG-CZ/wshp2017_tutorial_content/blob/master/notebooks/ODM2_Example3.ipynb"
   ]
  },
  {
   "cell_type": "code",
   "execution_count": 1,
   "metadata": {},
   "outputs": [],
   "source": [
    "%matplotlib inline\n",
    "\n",
    "import sys\n",
    "import os\n",
    "import sqlite3\n",
    "\n",
    "import matplotlib.pyplot as plt\n",
    "from shapely.geometry import Point\n",
    "import pandas as pd\n",
    "import geopandas as gpd\n",
    "import folium\n",
    "from folium.plugins import MarkerCluster\n",
    "\n",
    "import odm2api\n",
    "from odm2api.ODMconnection import dbconnection\n",
    "import odm2api.services.readService as odm2rs\n",
    "from odm2api.models import SamplingFeatures"
   ]
  },
  {
   "cell_type": "code",
   "execution_count": 2,
   "metadata": {},
   "outputs": [
    {
     "data": {
      "text/plain": [
       "(u'0.23.4', u'0.4.0', u'0.6.0')"
      ]
     },
     "execution_count": 2,
     "metadata": {},
     "output_type": "execute_result"
    }
   ],
   "source": [
    "pd.__version__, gpd.__version__, folium.__version__"
   ]
  },
  {
   "cell_type": "markdown",
   "metadata": {},
   "source": [
    "**odm2api version used** to run this notebook:"
   ]
  },
  {
   "cell_type": "code",
   "execution_count": 3,
   "metadata": {},
   "outputs": [
    {
     "data": {
      "text/plain": [
       "u'0.7.1'"
      ]
     },
     "execution_count": 3,
     "metadata": {},
     "output_type": "execute_result"
    }
   ],
   "source": [
    "odm2api.__version__"
   ]
  },
  {
   "cell_type": "markdown",
   "metadata": {},
   "source": [
    "## Make a Connection to the ODM2 SQLite Database\n",
    "\n",
    "This example uses an ODM2 SQLite database loaded with water quality sample data from multiple monitoring sites in the [iUTAH](https://iutahepscor.org/) Gradients Along Mountain to Urban Transitions ([GAMUT](http://data.iutahepscor.org/mdf/Data/Gamut_Network/)) water quality monitoring network. Water quality samples have been collected and analyzed for nitrogen, phosphorus, total coliform, E-coli, and some water isotopes. The [database (iUTAHGAMUT_waterquality_measurementresults_ODM2.sqlite)](https://github.com/ODM2/ODM2PythonAPI/blob/master/Examples/data/iUTAHGAMUT_waterquality_measurementresults_ODM2.sqlite) contains [\"measurement\"-type results](http://vocabulary.odm2.org/resulttype/measurement/).\n",
    "\n",
    "The example database is located in the `data` sub-directory."
   ]
  },
  {
   "cell_type": "code",
   "execution_count": 4,
   "metadata": {},
   "outputs": [],
   "source": [
    "# Assign directory paths and SQLite file name\n",
    "dbname_sqlite = \"iUTAHGAMUT_waterquality_measurementresults_ODM2.sqlite\"\n",
    "\n",
    "sqlite_pth = os.path.join(\"data\", dbname_sqlite)"
   ]
  },
  {
   "cell_type": "code",
   "execution_count": 5,
   "metadata": {},
   "outputs": [
    {
     "name": "stdout",
     "output_type": "stream",
     "text": [
      "Database connection successful!\n"
     ]
    }
   ],
   "source": [
    "try:\n",
    "    session_factory = dbconnection.createConnection('sqlite', sqlite_pth, 2.0)\n",
    "    read = odm2rs.ReadODM2(session_factory)\n",
    "    print(\"Database connection successful!\")\n",
    "except Exception as e:\n",
    "    print(\"Unable to establish connection to the database: \", e)"
   ]
  },
  {
   "cell_type": "markdown",
   "metadata": {},
   "source": [
    "## Run Some Basic Queries on the ODM2 Database\n",
    "\n",
    "This section shows some example of how to use the API to run both simple and more advanced queries on the ODM2 database, as well as how to examine the query output in convenient ways thanks to Python tools.\n",
    "\n",
    "Simple query functions like **getVariables( )** return objects similar to the entities in ODM2, and individual attributes can then be retrieved from the objects returned. "
   ]
  },
  {
   "cell_type": "markdown",
   "metadata": {},
   "source": [
    "### Get all Variables\n",
    "A simple query with simple output."
   ]
  },
  {
   "cell_type": "code",
   "execution_count": 6,
   "metadata": {},
   "outputs": [
    {
     "data": {
      "text/html": [
       "<div>\n",
       "<style scoped>\n",
       "    .dataframe tbody tr th:only-of-type {\n",
       "        vertical-align: middle;\n",
       "    }\n",
       "\n",
       "    .dataframe tbody tr th {\n",
       "        vertical-align: top;\n",
       "    }\n",
       "\n",
       "    .dataframe thead th {\n",
       "        text-align: right;\n",
       "    }\n",
       "</style>\n",
       "<table border=\"1\" class=\"dataframe\">\n",
       "  <thead>\n",
       "    <tr style=\"text-align: right;\">\n",
       "      <th></th>\n",
       "      <th>NoDataValue</th>\n",
       "      <th>SpeciationCV</th>\n",
       "      <th>VariableCode</th>\n",
       "      <th>VariableDefinition</th>\n",
       "      <th>VariableNameCV</th>\n",
       "      <th>VariableTypeCV</th>\n",
       "      <th>_sa_instance_state</th>\n",
       "    </tr>\n",
       "    <tr>\n",
       "      <th>VariableID</th>\n",
       "      <th></th>\n",
       "      <th></th>\n",
       "      <th></th>\n",
       "      <th></th>\n",
       "      <th></th>\n",
       "      <th></th>\n",
       "      <th></th>\n",
       "    </tr>\n",
       "  </thead>\n",
       "  <tbody>\n",
       "    <tr>\n",
       "      <th>1</th>\n",
       "      <td>-9999.0000000000</td>\n",
       "      <td>N</td>\n",
       "      <td>TN</td>\n",
       "      <td>None</td>\n",
       "      <td>Nitrogen, total</td>\n",
       "      <td>Water quality</td>\n",
       "      <td>&lt;sqlalchemy.orm.state.InstanceState object at ...</td>\n",
       "    </tr>\n",
       "    <tr>\n",
       "      <th>2</th>\n",
       "      <td>-9999.0000000000</td>\n",
       "      <td>P</td>\n",
       "      <td>TP</td>\n",
       "      <td>None</td>\n",
       "      <td>Phosphorus, total</td>\n",
       "      <td>Water quality</td>\n",
       "      <td>&lt;sqlalchemy.orm.state.InstanceState object at ...</td>\n",
       "    </tr>\n",
       "    <tr>\n",
       "      <th>3</th>\n",
       "      <td>-9999.0000000000</td>\n",
       "      <td>N</td>\n",
       "      <td>Nitrate</td>\n",
       "      <td>None</td>\n",
       "      <td>Nitrogen, dissolved nitrite (NO2) + nitrate (NO3)</td>\n",
       "      <td>Water quality</td>\n",
       "      <td>&lt;sqlalchemy.orm.state.InstanceState object at ...</td>\n",
       "    </tr>\n",
       "    <tr>\n",
       "      <th>4</th>\n",
       "      <td>-9999.0000000000</td>\n",
       "      <td>N</td>\n",
       "      <td>Ammonia</td>\n",
       "      <td>None</td>\n",
       "      <td>Nitrogen, NH4</td>\n",
       "      <td>Water quality</td>\n",
       "      <td>&lt;sqlalchemy.orm.state.InstanceState object at ...</td>\n",
       "    </tr>\n",
       "    <tr>\n",
       "      <th>5</th>\n",
       "      <td>-9999.0000000000</td>\n",
       "      <td>P</td>\n",
       "      <td>Phosphate</td>\n",
       "      <td>None</td>\n",
       "      <td>Phosphorus, orthophosphate dissolved</td>\n",
       "      <td>Water quality</td>\n",
       "      <td>&lt;sqlalchemy.orm.state.InstanceState object at ...</td>\n",
       "    </tr>\n",
       "    <tr>\n",
       "      <th>6</th>\n",
       "      <td>-9999.0000000000</td>\n",
       "      <td>Not Applicable</td>\n",
       "      <td>Tcoliform</td>\n",
       "      <td>None</td>\n",
       "      <td>Coliform, total</td>\n",
       "      <td>Water quality</td>\n",
       "      <td>&lt;sqlalchemy.orm.state.InstanceState object at ...</td>\n",
       "    </tr>\n",
       "    <tr>\n",
       "      <th>7</th>\n",
       "      <td>-9999.0000000000</td>\n",
       "      <td>Not Applicable</td>\n",
       "      <td>E-Coli</td>\n",
       "      <td>None</td>\n",
       "      <td>E-coli</td>\n",
       "      <td>Water quality</td>\n",
       "      <td>&lt;sqlalchemy.orm.state.InstanceState object at ...</td>\n",
       "    </tr>\n",
       "    <tr>\n",
       "      <th>8</th>\n",
       "      <td>-9999.0000000000</td>\n",
       "      <td>C</td>\n",
       "      <td>DOC</td>\n",
       "      <td>None</td>\n",
       "      <td>Carbon, dissolved organic</td>\n",
       "      <td>Water quality</td>\n",
       "      <td>&lt;sqlalchemy.orm.state.InstanceState object at ...</td>\n",
       "    </tr>\n",
       "    <tr>\n",
       "      <th>9</th>\n",
       "      <td>-9999.0000000000</td>\n",
       "      <td>N</td>\n",
       "      <td>TDN</td>\n",
       "      <td>None</td>\n",
       "      <td>Nitrogen, total dissolved</td>\n",
       "      <td>Water quality</td>\n",
       "      <td>&lt;sqlalchemy.orm.state.InstanceState object at ...</td>\n",
       "    </tr>\n",
       "    <tr>\n",
       "      <th>10</th>\n",
       "      <td>-9999.0000000000</td>\n",
       "      <td>Not Applicable</td>\n",
       "      <td>Abs254</td>\n",
       "      <td>None</td>\n",
       "      <td>Absorbance</td>\n",
       "      <td>Water quality</td>\n",
       "      <td>&lt;sqlalchemy.orm.state.InstanceState object at ...</td>\n",
       "    </tr>\n",
       "  </tbody>\n",
       "</table>\n",
       "</div>"
      ],
      "text/plain": [
       "                 NoDataValue    SpeciationCV VariableCode VariableDefinition  \\\n",
       "VariableID                                                                     \n",
       "1           -9999.0000000000               N           TN               None   \n",
       "2           -9999.0000000000               P           TP               None   \n",
       "3           -9999.0000000000               N      Nitrate               None   \n",
       "4           -9999.0000000000               N      Ammonia               None   \n",
       "5           -9999.0000000000               P    Phosphate               None   \n",
       "6           -9999.0000000000  Not Applicable    Tcoliform               None   \n",
       "7           -9999.0000000000  Not Applicable       E-Coli               None   \n",
       "8           -9999.0000000000               C          DOC               None   \n",
       "9           -9999.0000000000               N          TDN               None   \n",
       "10          -9999.0000000000  Not Applicable       Abs254               None   \n",
       "\n",
       "                                               VariableNameCV VariableTypeCV  \\\n",
       "VariableID                                                                     \n",
       "1                                             Nitrogen, total  Water quality   \n",
       "2                                           Phosphorus, total  Water quality   \n",
       "3           Nitrogen, dissolved nitrite (NO2) + nitrate (NO3)  Water quality   \n",
       "4                                               Nitrogen, NH4  Water quality   \n",
       "5                        Phosphorus, orthophosphate dissolved  Water quality   \n",
       "6                                             Coliform, total  Water quality   \n",
       "7                                                      E-coli  Water quality   \n",
       "8                                   Carbon, dissolved organic  Water quality   \n",
       "9                                   Nitrogen, total dissolved  Water quality   \n",
       "10                                                 Absorbance  Water quality   \n",
       "\n",
       "                                           _sa_instance_state  \n",
       "VariableID                                                     \n",
       "1           <sqlalchemy.orm.state.InstanceState object at ...  \n",
       "2           <sqlalchemy.orm.state.InstanceState object at ...  \n",
       "3           <sqlalchemy.orm.state.InstanceState object at ...  \n",
       "4           <sqlalchemy.orm.state.InstanceState object at ...  \n",
       "5           <sqlalchemy.orm.state.InstanceState object at ...  \n",
       "6           <sqlalchemy.orm.state.InstanceState object at ...  \n",
       "7           <sqlalchemy.orm.state.InstanceState object at ...  \n",
       "8           <sqlalchemy.orm.state.InstanceState object at ...  \n",
       "9           <sqlalchemy.orm.state.InstanceState object at ...  \n",
       "10          <sqlalchemy.orm.state.InstanceState object at ...  "
      ]
     },
     "execution_count": 6,
     "metadata": {},
     "output_type": "execute_result"
    }
   ],
   "source": [
    "# Get all of the Variables from the ODM2 database then read the records\n",
    "# into a Pandas DataFrame to make it easy to view and manipulate\n",
    "allVars = read.getVariables()\n",
    "\n",
    "variables_df = pd.DataFrame.from_records([vars(variable) for variable in allVars], index='VariableID')\n",
    "variables_df.head(10)"
   ]
  },
  {
   "cell_type": "markdown",
   "metadata": {},
   "source": [
    "### Get all People\n",
    "Another simple query."
   ]
  },
  {
   "cell_type": "code",
   "execution_count": 7,
   "metadata": {},
   "outputs": [
    {
     "data": {
      "text/html": [
       "<div>\n",
       "<style scoped>\n",
       "    .dataframe tbody tr th:only-of-type {\n",
       "        vertical-align: middle;\n",
       "    }\n",
       "\n",
       "    .dataframe tbody tr th {\n",
       "        vertical-align: top;\n",
       "    }\n",
       "\n",
       "    .dataframe thead th {\n",
       "        text-align: right;\n",
       "    }\n",
       "</style>\n",
       "<table border=\"1\" class=\"dataframe\">\n",
       "  <thead>\n",
       "    <tr style=\"text-align: right;\">\n",
       "      <th></th>\n",
       "      <th>PersonFirstName</th>\n",
       "      <th>PersonID</th>\n",
       "      <th>PersonLastName</th>\n",
       "      <th>PersonMiddleName</th>\n",
       "      <th>_sa_instance_state</th>\n",
       "    </tr>\n",
       "  </thead>\n",
       "  <tbody>\n",
       "    <tr>\n",
       "      <th>0</th>\n",
       "      <td>Nancy</td>\n",
       "      <td>1</td>\n",
       "      <td>Mesner</td>\n",
       "      <td></td>\n",
       "      <td>&lt;sqlalchemy.orm.state.InstanceState object at ...</td>\n",
       "    </tr>\n",
       "    <tr>\n",
       "      <th>1</th>\n",
       "      <td>Dane</td>\n",
       "      <td>2</td>\n",
       "      <td>Brophy</td>\n",
       "      <td></td>\n",
       "      <td>&lt;sqlalchemy.orm.state.InstanceState object at ...</td>\n",
       "    </tr>\n",
       "    <tr>\n",
       "      <th>2</th>\n",
       "      <td>Ben</td>\n",
       "      <td>3</td>\n",
       "      <td>Rider</td>\n",
       "      <td></td>\n",
       "      <td>&lt;sqlalchemy.orm.state.InstanceState object at ...</td>\n",
       "    </tr>\n",
       "    <tr>\n",
       "      <th>3</th>\n",
       "      <td>Michelle</td>\n",
       "      <td>4</td>\n",
       "      <td>Baker</td>\n",
       "      <td></td>\n",
       "      <td>&lt;sqlalchemy.orm.state.InstanceState object at ...</td>\n",
       "    </tr>\n",
       "    <tr>\n",
       "      <th>4</th>\n",
       "      <td>Erin</td>\n",
       "      <td>5</td>\n",
       "      <td>Jones</td>\n",
       "      <td></td>\n",
       "      <td>&lt;sqlalchemy.orm.state.InstanceState object at ...</td>\n",
       "    </tr>\n",
       "  </tbody>\n",
       "</table>\n",
       "</div>"
      ],
      "text/plain": [
       "  PersonFirstName  PersonID PersonLastName PersonMiddleName  \\\n",
       "0           Nancy         1         Mesner                    \n",
       "1            Dane         2         Brophy                    \n",
       "2             Ben         3          Rider                    \n",
       "3        Michelle         4          Baker                    \n",
       "4            Erin         5          Jones                    \n",
       "\n",
       "                                  _sa_instance_state  \n",
       "0  <sqlalchemy.orm.state.InstanceState object at ...  \n",
       "1  <sqlalchemy.orm.state.InstanceState object at ...  \n",
       "2  <sqlalchemy.orm.state.InstanceState object at ...  \n",
       "3  <sqlalchemy.orm.state.InstanceState object at ...  \n",
       "4  <sqlalchemy.orm.state.InstanceState object at ...  "
      ]
     },
     "execution_count": 7,
     "metadata": {},
     "output_type": "execute_result"
    }
   ],
   "source": [
    "allPeople = read.getPeople()\n",
    "pd.DataFrame.from_records([vars(person) for person in allPeople]).head()"
   ]
  },
  {
   "cell_type": "markdown",
   "metadata": {},
   "source": [
    "### Site Sampling Features: pass arguments to the API query\n",
    "\n",
    "Some of the API functions accept arguments that let you subset what is returned. For example, I can query the database using the **getSamplingFeatures( )** function and pass it a SamplingFeatureType of \"Site\" to return a list of those SamplingFeatures that are Sites."
   ]
  },
  {
   "cell_type": "code",
   "execution_count": 8,
   "metadata": {},
   "outputs": [],
   "source": [
    "# Get all of the SamplingFeatures from the ODM2 database that are Sites\n",
    "siteFeatures = read.getSamplingFeatures(sftype='Site')\n",
    "\n",
    "# Read Sites records into a Pandas DataFrame\n",
    "# \"if sf.Latitude\" is used only to instantiate/read Site attributes)\n",
    "df = pd.DataFrame.from_records([vars(sf) for sf in siteFeatures if sf.Latitude])"
   ]
  },
  {
   "cell_type": "markdown",
   "metadata": {},
   "source": [
    "Since we know this is a *geospatial* dataset (Sites, which have latitude and longitude), we can use more specialized (spatialized?) Python tools like `GeoPandas` (geospatially enabled Pandas) and `Folium` interactive maps."
   ]
  },
  {
   "cell_type": "code",
   "execution_count": 9,
   "metadata": {},
   "outputs": [
    {
     "data": {
      "text/html": [
       "<div>\n",
       "<style scoped>\n",
       "    .dataframe tbody tr th:only-of-type {\n",
       "        vertical-align: middle;\n",
       "    }\n",
       "\n",
       "    .dataframe tbody tr th {\n",
       "        vertical-align: top;\n",
       "    }\n",
       "\n",
       "    .dataframe thead th {\n",
       "        text-align: right;\n",
       "    }\n",
       "</style>\n",
       "<table border=\"1\" class=\"dataframe\">\n",
       "  <thead>\n",
       "    <tr style=\"text-align: right;\">\n",
       "      <th></th>\n",
       "      <th>ElevationDatumCV</th>\n",
       "      <th>Elevation_m</th>\n",
       "      <th>FeatureGeometryWKT</th>\n",
       "      <th>Latitude</th>\n",
       "      <th>Longitude</th>\n",
       "      <th>SamplingFeatureCode</th>\n",
       "      <th>SamplingFeatureDescription</th>\n",
       "      <th>SamplingFeatureGeotypeCV</th>\n",
       "      <th>SamplingFeatureID</th>\n",
       "      <th>SamplingFeatureName</th>\n",
       "      <th>SamplingFeatureTypeCV</th>\n",
       "      <th>SamplingFeatureUUID</th>\n",
       "      <th>SiteTypeCV</th>\n",
       "      <th>SpatialReferenceID</th>\n",
       "      <th>_sa_instance_state</th>\n",
       "      <th>geometry</th>\n",
       "    </tr>\n",
       "  </thead>\n",
       "  <tbody>\n",
       "    <tr>\n",
       "      <th>0</th>\n",
       "      <td>EGM96</td>\n",
       "      <td>1356.0</td>\n",
       "      <td>None</td>\n",
       "      <td>40.745078</td>\n",
       "      <td>-111.854449</td>\n",
       "      <td>RB_1300E</td>\n",
       "      <td>None</td>\n",
       "      <td>None</td>\n",
       "      <td>1</td>\n",
       "      <td>Red Butte Creek at 1300E (downstream of spring)</td>\n",
       "      <td>Site</td>\n",
       "      <td>0DDE8EF6-EC2F-42C0-AB50-20C6C02E89B2</td>\n",
       "      <td>Stream</td>\n",
       "      <td>1</td>\n",
       "      <td>&lt;sqlalchemy.orm.state.InstanceState object at ...</td>\n",
       "      <td>POINT (-111.854449 40.745078)</td>\n",
       "    </tr>\n",
       "    <tr>\n",
       "      <th>1</th>\n",
       "      <td>EGM96</td>\n",
       "      <td>1356.0</td>\n",
       "      <td>None</td>\n",
       "      <td>40.745106</td>\n",
       "      <td>-111.854389</td>\n",
       "      <td>RB_1300ESpring</td>\n",
       "      <td>None</td>\n",
       "      <td>None</td>\n",
       "      <td>2</td>\n",
       "      <td>Spring that enters Red Butte Creek at 1300E</td>\n",
       "      <td>Site</td>\n",
       "      <td>9848BBFE-EA3F-4918-A324-13E8EDE5381C</td>\n",
       "      <td>Spring</td>\n",
       "      <td>1</td>\n",
       "      <td>&lt;sqlalchemy.orm.state.InstanceState object at ...</td>\n",
       "      <td>POINT (-111.854389 40.745106)</td>\n",
       "    </tr>\n",
       "    <tr>\n",
       "      <th>2</th>\n",
       "      <td>EGM96</td>\n",
       "      <td>1289.0</td>\n",
       "      <td>None</td>\n",
       "      <td>40.741583</td>\n",
       "      <td>-111.917667</td>\n",
       "      <td>RB_900W_BA</td>\n",
       "      <td>None</td>\n",
       "      <td>None</td>\n",
       "      <td>3</td>\n",
       "      <td>Red Butte Creek terminus at Jordan River at 13...</td>\n",
       "      <td>Site</td>\n",
       "      <td>688017BC-9E02-4444-A21D-270366BE2348</td>\n",
       "      <td>Stream</td>\n",
       "      <td>1</td>\n",
       "      <td>&lt;sqlalchemy.orm.state.InstanceState object at ...</td>\n",
       "      <td>POINT (-111.917667 40.741583)</td>\n",
       "    </tr>\n",
       "    <tr>\n",
       "      <th>3</th>\n",
       "      <td>EGM96</td>\n",
       "      <td>1519.0</td>\n",
       "      <td>None</td>\n",
       "      <td>40.766134</td>\n",
       "      <td>-111.826530</td>\n",
       "      <td>RB_Amphitheater</td>\n",
       "      <td>None</td>\n",
       "      <td>None</td>\n",
       "      <td>4</td>\n",
       "      <td>Red Butte Creek below Red Butte Garden Amphith...</td>\n",
       "      <td>Site</td>\n",
       "      <td>9CFE685B-5CDA-4E38-98D9-406D645C7D21</td>\n",
       "      <td>Stream</td>\n",
       "      <td>1</td>\n",
       "      <td>&lt;sqlalchemy.orm.state.InstanceState object at ...</td>\n",
       "      <td>POINT (-111.82653 40.766134)</td>\n",
       "    </tr>\n",
       "    <tr>\n",
       "      <th>4</th>\n",
       "      <td>EGM96</td>\n",
       "      <td>1648.0</td>\n",
       "      <td>None</td>\n",
       "      <td>40.779602</td>\n",
       "      <td>-111.806669</td>\n",
       "      <td>RB_ARBR_AA</td>\n",
       "      <td>None</td>\n",
       "      <td>None</td>\n",
       "      <td>5</td>\n",
       "      <td>Red Butte Creek above Red Butte Reservoir Adan...</td>\n",
       "      <td>Site</td>\n",
       "      <td>98C7F63A-FDFB-4898-87C6-5AA8EC34D1E4</td>\n",
       "      <td>Stream</td>\n",
       "      <td>1</td>\n",
       "      <td>&lt;sqlalchemy.orm.state.InstanceState object at ...</td>\n",
       "      <td>POINT (-111.806669 40.779602)</td>\n",
       "    </tr>\n",
       "  </tbody>\n",
       "</table>\n",
       "</div>"
      ],
      "text/plain": [
       "  ElevationDatumCV  Elevation_m FeatureGeometryWKT   Latitude   Longitude  \\\n",
       "0            EGM96       1356.0               None  40.745078 -111.854449   \n",
       "1            EGM96       1356.0               None  40.745106 -111.854389   \n",
       "2            EGM96       1289.0               None  40.741583 -111.917667   \n",
       "3            EGM96       1519.0               None  40.766134 -111.826530   \n",
       "4            EGM96       1648.0               None  40.779602 -111.806669   \n",
       "\n",
       "  SamplingFeatureCode SamplingFeatureDescription SamplingFeatureGeotypeCV  \\\n",
       "0            RB_1300E                       None                     None   \n",
       "1      RB_1300ESpring                       None                     None   \n",
       "2          RB_900W_BA                       None                     None   \n",
       "3     RB_Amphitheater                       None                     None   \n",
       "4          RB_ARBR_AA                       None                     None   \n",
       "\n",
       "   SamplingFeatureID                                SamplingFeatureName  \\\n",
       "0                  1    Red Butte Creek at 1300E (downstream of spring)   \n",
       "1                  2        Spring that enters Red Butte Creek at 1300E   \n",
       "2                  3  Red Butte Creek terminus at Jordan River at 13...   \n",
       "3                  4  Red Butte Creek below Red Butte Garden Amphith...   \n",
       "4                  5  Red Butte Creek above Red Butte Reservoir Adan...   \n",
       "\n",
       "  SamplingFeatureTypeCV                   SamplingFeatureUUID SiteTypeCV  \\\n",
       "0                  Site  0DDE8EF6-EC2F-42C0-AB50-20C6C02E89B2     Stream   \n",
       "1                  Site  9848BBFE-EA3F-4918-A324-13E8EDE5381C     Spring   \n",
       "2                  Site  688017BC-9E02-4444-A21D-270366BE2348     Stream   \n",
       "3                  Site  9CFE685B-5CDA-4E38-98D9-406D645C7D21     Stream   \n",
       "4                  Site  98C7F63A-FDFB-4898-87C6-5AA8EC34D1E4     Stream   \n",
       "\n",
       "   SpatialReferenceID                                 _sa_instance_state  \\\n",
       "0                   1  <sqlalchemy.orm.state.InstanceState object at ...   \n",
       "1                   1  <sqlalchemy.orm.state.InstanceState object at ...   \n",
       "2                   1  <sqlalchemy.orm.state.InstanceState object at ...   \n",
       "3                   1  <sqlalchemy.orm.state.InstanceState object at ...   \n",
       "4                   1  <sqlalchemy.orm.state.InstanceState object at ...   \n",
       "\n",
       "                        geometry  \n",
       "0  POINT (-111.854449 40.745078)  \n",
       "1  POINT (-111.854389 40.745106)  \n",
       "2  POINT (-111.917667 40.741583)  \n",
       "3   POINT (-111.82653 40.766134)  \n",
       "4  POINT (-111.806669 40.779602)  "
      ]
     },
     "execution_count": 9,
     "metadata": {},
     "output_type": "execute_result"
    }
   ],
   "source": [
    "# Create a GeoPandas GeoDataFrame from Sites DataFrame\n",
    "ptgeom = [Point(xy) for xy in zip(df['Longitude'], df['Latitude'])]\n",
    "gdf = gpd.GeoDataFrame(df, geometry=ptgeom, crs={'init': 'epsg:4326'})\n",
    "gdf.head(5)"
   ]
  },
  {
   "cell_type": "code",
   "execution_count": 10,
   "metadata": {},
   "outputs": [
    {
     "data": {
      "text/plain": [
       "25"
      ]
     },
     "execution_count": 10,
     "metadata": {},
     "output_type": "execute_result"
    }
   ],
   "source": [
    "# Number of records (features) in GeoDataFrame\n",
    "len(gdf)"
   ]
  },
  {
   "cell_type": "code",
   "execution_count": 11,
   "metadata": {},
   "outputs": [
    {
     "data": {
      "image/png": "[encoded data removed]",
      "text/plain": [
       "<Figure size 432x288 with 1 Axes>"
      ]
     },
     "metadata": {
      "needs_background": "light"
     },
     "output_type": "display_data"
    }
   ],
   "source": [
    "# A trivial but easy-to-generate GeoPandas plot\n",
    "gdf.plot();"
   ]
  },
  {
   "cell_type": "markdown",
   "metadata": {},
   "source": [
    "A site has a `SiteTypeCV`. Let's examine the site type distribution, and use that information to create a new GeoDataFrame column to specify a map marker color by `SiteTypeCV`."
   ]
  },
  {
   "cell_type": "code",
   "execution_count": 12,
   "metadata": {},
   "outputs": [
    {
     "data": {
      "text/plain": [
       "Stream    24\n",
       "Spring     1\n",
       "Name: SiteTypeCV, dtype: int64"
      ]
     },
     "execution_count": 12,
     "metadata": {},
     "output_type": "execute_result"
    }
   ],
   "source": [
    "gdf['SiteTypeCV'].value_counts()"
   ]
  },
  {
   "cell_type": "code",
   "execution_count": 13,
   "metadata": {},
   "outputs": [],
   "source": [
    "gdf[\"color\"] = gdf.apply(lambda feat: 'green' if feat['SiteTypeCV'] == 'Stream' else 'red', axis=1)"
   ]
  },
  {
   "cell_type": "markdown",
   "metadata": {},
   "source": [
    "Note: While the database holds a copy of the **ODM2 Controlled Vocabularies**, the complete description of each CV term is available from a web request to the CV API at http://vocabulary.odm2.org. Want to know more about how a \"spring\" is defined? Here's one simple way, using `Pandas` to access and parse the CSV web service response."
   ]
  },
  {
   "cell_type": "code",
   "execution_count": 14,
   "metadata": {},
   "outputs": [
    {
     "data": {
      "text/html": [
       "<div>\n",
       "<style scoped>\n",
       "    .dataframe tbody tr th:only-of-type {\n",
       "        vertical-align: middle;\n",
       "    }\n",
       "\n",
       "    .dataframe tbody tr th {\n",
       "        vertical-align: top;\n",
       "    }\n",
       "\n",
       "    .dataframe thead th {\n",
       "        text-align: right;\n",
       "    }\n",
       "</style>\n",
       "<table border=\"1\" class=\"dataframe\">\n",
       "  <thead>\n",
       "    <tr style=\"text-align: right;\">\n",
       "      <th></th>\n",
       "      <th>term</th>\n",
       "      <th>name</th>\n",
       "      <th>definition</th>\n",
       "      <th>category</th>\n",
       "      <th>provenance</th>\n",
       "      <th>provenance_uri</th>\n",
       "      <th>note</th>\n",
       "    </tr>\n",
       "  </thead>\n",
       "  <tbody>\n",
       "    <tr>\n",
       "      <th>0</th>\n",
       "      <td>spring</td>\n",
       "      <td>Spring</td>\n",
       "      <td>A location at which the water table intersects...</td>\n",
       "      <td>Spring Sites</td>\n",
       "      <td>Adapted from USGS Site Types.</td>\n",
       "      <td>NaN</td>\n",
       "      <td>http://wdr.water.usgs.gov/nwisgmap/help/sitety...</td>\n",
       "    </tr>\n",
       "  </tbody>\n",
       "</table>\n",
       "</div>"
      ],
      "text/plain": [
       "     term    name                                         definition  \\\n",
       "0  spring  Spring  A location at which the water table intersects...   \n",
       "\n",
       "       category                     provenance  provenance_uri  \\\n",
       "0  Spring Sites  Adapted from USGS Site Types.             NaN   \n",
       "\n",
       "                                                note  \n",
       "0  http://wdr.water.usgs.gov/nwisgmap/help/sitety...  "
      ]
     },
     "execution_count": 14,
     "metadata": {},
     "output_type": "execute_result"
    }
   ],
   "source": [
    "sitetype = 'spring'\n",
    "pd.read_csv(\"http://vocabulary.odm2.org/api/v1/sitetype/{}/?format=csv\".format(sitetype))"
   ]
  },
  {
   "cell_type": "markdown",
   "metadata": {},
   "source": [
    "**Now we'll create an interactive and helpful `Folium` map of the sites.** This map features:\n",
    "- Automatic panning to the location of the sites (no hard wiring, except for the zoom scale), based on GeoPandas functionality and information from the ODM2 Site Sampling Features\n",
    "- Color coding by `SiteTypeCV` \n",
    "- Marker clustering\n",
    "- Simple marker pop ups with content from the ODM2 Site Sampling Features"
   ]
  },
  {
   "cell_type": "code",
   "execution_count": 15,
   "metadata": {},
   "outputs": [
    {
     "data": {
      "text/html": [
       "<div style=\"width:100%;\"><div style=\"position:relative;width:100%;height:0;padding-bottom:60%;\"><iframe src=\"data:text/html;charset=utf-8;base64,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\" style=\"position:absolute;width:100%;height:100%;left:0;top:0;border:none !important;\" allowfullscreen webkitallowfullscreen mozallowfullscreen></iframe></div></div>"
      ],
      "text/plain": [
       "<folium.folium.Map at 0x7fdd5a7527d0>"
      ]
     },
     "execution_count": 15,
     "metadata": {},
     "output_type": "execute_result"
    }
   ],
   "source": [
    "c = gdf.unary_union.centroid\n",
    "m = folium.Map(location=[c.y, c.x], tiles='CartoDB positron', zoom_start=11)\n",
    "\n",
    "marker_cluster = MarkerCluster().add_to(m)\n",
    "for idx, feature in gdf.iterrows():\n",
    "    folium.Marker(location=[feature.geometry.y, feature.geometry.x], \n",
    "                  icon=folium.Icon(color=feature['color']),\n",
    "                  popup=\"{0} ({1}): {2}\".format(\n",
    "                      feature['SamplingFeatureCode'], feature['SiteTypeCV'], \n",
    "                      feature['SamplingFeatureName'])\n",
    "                 ).add_to(marker_cluster)\n",
    "\n",
    "    \n",
    "# Done with setup. Now render the map\n",
    "m"
   ]
  },
  {
   "cell_type": "markdown",
   "metadata": {},
   "source": [
    "### Add a new Sampling Feature\n",
    "Just to llustrate how to add a new entry. We won't \"commit\" (save) the sampling feature to the database."
   ]
  },
  {
   "cell_type": "code",
   "execution_count": 16,
   "metadata": {},
   "outputs": [
    {
     "name": "stdout",
     "output_type": "stream",
     "text": [
      "New sampling feature created, but not saved to database.\n",
      "\n",
      "<SamplingFeatures({'SamplingFeatureDescription': 'this is a test to add a sampling feature', 'SamplingFeatureGeotypeCV': 'Point', 'ElevationDatumCV': u'EGM96', 'Elevation_m': 100, 'SamplingFeatureUUID': u'0DDE8EF6-EC2F-42C0-AB50-20C6C02E89B22', 'SamplingFeatureTypeCV': u'Site', 'SamplingFeatureCode': 'TestSF', 'FeatureGeometryWKT': 'POINT(-111.946 41.718)'})>\n"
     ]
    }
   ],
   "source": [
    "sitesf0 = siteFeatures[0]\n",
    "\n",
    "try:\n",
    "    newsf = SamplingFeatures()\n",
    "    session = session_factory.getSession()\n",
    "    newsf.FeatureGeometryWKT = \"POINT(-111.946 41.718)\"\n",
    "    newsf.Elevation_m = 100\n",
    "    newsf.ElevationDatumCV = sitesf0.ElevationDatumCV\n",
    "    newsf.SamplingFeatureCode = \"TestSF\"\n",
    "    newsf.SamplingFeatureDescription = \"this is a test to add a sampling feature\"\n",
    "    newsf.SamplingFeatureGeotypeCV = \"Point\"\n",
    "    newsf.SamplingFeatureTypeCV = sitesf0.SamplingFeatureTypeCV\n",
    "    newsf.SamplingFeatureUUID = sitesf0.SamplingFeatureUUID+\"2\"\n",
    "    session.add(newsf)\n",
    "    # To save the new sampling feature, do session.commit()\n",
    "    print(\"New sampling feature created, but not saved to database.\\n\")\n",
    "    print(newsf)\n",
    "except Exception as e :\n",
    "    print(\"error adding a sampling feature: {}\".format(e))"
   ]
  },
  {
   "cell_type": "markdown",
   "metadata": {},
   "source": [
    "### Get Objects and Related Objects from the Database (SamplingFeatures example)\n",
    "\n",
    "This code shows some examples of how objects and related objects can be retrieved using the API. In the following, we use the **getSamplingFeatures( )** function to return a particular sampling feature by passing in its SamplingFeatureCode. This function returns a list of SamplingFeature objects, so just get the first one in the returned list."
   ]
  },
  {
   "cell_type": "code",
   "execution_count": 17,
   "metadata": {},
   "outputs": [
    {
     "data": {
      "text/plain": [
       "odm2api.models.Sites"
      ]
     },
     "execution_count": 17,
     "metadata": {},
     "output_type": "execute_result"
    }
   ],
   "source": [
    "# Get the SamplingFeature object for a particular SamplingFeature by passing its SamplingFeatureCode\n",
    "sf = read.getSamplingFeatures(codes=['RB_1300E'])[0]\n",
    "type(sf)"
   ]
  },
  {
   "cell_type": "code",
   "execution_count": 18,
   "metadata": {},
   "outputs": [
    {
     "data": {
      "text/plain": [
       "{'ElevationDatumCV': u'EGM96',\n",
       " 'Elevation_m': 1356.0,\n",
       " 'FeatureGeometryWKT': None,\n",
       " 'Latitude': 40.745078,\n",
       " 'Longitude': -111.854449,\n",
       " 'SamplingFeatureCode': u'RB_1300E',\n",
       " 'SamplingFeatureDescription': None,\n",
       " 'SamplingFeatureGeotypeCV': None,\n",
       " 'SamplingFeatureID': 1,\n",
       " 'SamplingFeatureName': u'Red Butte Creek at 1300E (downstream of spring)',\n",
       " 'SamplingFeatureTypeCV': u'Site',\n",
       " 'SamplingFeatureUUID': u'0DDE8EF6-EC2F-42C0-AB50-20C6C02E89B2',\n",
       " 'SiteTypeCV': u'Stream',\n",
       " 'SpatialReferenceID': 1,\n",
       " '_sa_instance_state': <sqlalchemy.orm.state.InstanceState at 0x7fdd5c89bed0>}"
      ]
     },
     "execution_count": 18,
     "metadata": {},
     "output_type": "execute_result"
    }
   ],
   "source": [
    "# Simple way to examine the content (properties) of a Python object, as if it were a dictionary\n",
    "vars(sf)"
   ]
  },
  {
   "cell_type": "markdown",
   "metadata": {},
   "source": [
    "You can also drill down and get objects linked by foreign keys. The API returns related objects in a nested hierarchy so they can be interrogated in an object oriented way. So, if I use the **getResults( )** function to return a Result from the database (e.g., a \"Measurement\" Result), I also get the associated Action that created that Result (e.g., a \"Specimen analysis\" Action)."
   ]
  },
  {
   "cell_type": "code",
   "execution_count": 19,
   "metadata": {},
   "outputs": [
    {
     "name": "stdout",
     "output_type": "stream",
     "text": [
      "------------ Foreign Key Example --------- \n",
      "\n",
      "('The FeatureAction object for the Result is: ', <FeatureActions({'SamplingFeatureID': 26, 'FeatureActionID': 1, 'ActionID': 1})>)\n",
      "('The Action object for the Result is: ', <Actions({'MethodID': 2, 'ActionDescription': None, 'ActionFileLink': None, 'EndDateTime': None, 'BeginDateTime': datetime.datetime(2014, 10, 30, 0, 0), 'EndDateTimeUTCOffset': None, 'ActionTypeCV': u'Specimen analysis', 'ActionID': 1, 'BeginDateTimeUTCOffset': -7})>)\n",
      "\n",
      "The following are some of the attributes for the Action that created the Result: \n",
      "ActionTypeCV: Specimen analysis\n",
      "ActionDescription: None\n",
      "BeginDateTime: 2014-10-30 00:00:00\n",
      "EndDateTime: None\n",
      "MethodName: Astoria Total Phosphorus\n",
      "MethodDescription: Determination of total phosphorus by persulphate oxidation digestion and ascorbic acid method\n"
     ]
    }
   ],
   "source": [
    "print(\"------------ Foreign Key Example --------- \\n\")\n",
    "try:\n",
    "    # Call getResults, but return only the first Result\n",
    "    firstResult = read.getResults()[0]\n",
    "    frfa = firstResult.FeatureActionObj\n",
    "    print(\"The FeatureAction object for the Result is: \", frfa)\n",
    "    print(\"The Action object for the Result is: \", frfa.ActionObj)\n",
    "    \n",
    "    # Print some of those attributes in a more human readable form\n",
    "    frfaa = firstResult.FeatureActionObj.ActionObj\n",
    "    print(\"\\nThe following are some of the attributes for the Action that created the Result: \")\n",
    "    print(\"ActionTypeCV: {}\".format(frfaa.ActionTypeCV))\n",
    "    print(\"ActionDescription: {}\".format(frfaa.ActionDescription))\n",
    "    print(\"BeginDateTime: {}\".format(frfaa.BeginDateTime))\n",
    "    print(\"EndDateTime: {}\".format(frfaa.EndDateTime))\n",
    "    print(\"MethodName: {}\".format(frfaa.MethodObj.MethodName))\n",
    "    print(\"MethodDescription: {}\".format(frfaa.MethodObj.MethodDescription))\n",
    "except Exception as e:\n",
    "    print(\"Unable to demo Foreign Key Example: \", e)"
   ]
  },
  {
   "cell_type": "markdown",
   "metadata": {},
   "source": [
    "### Get a Result and its Attributes\n",
    "\n",
    "Because all of the objects are returned in a nested form, if you retrieve a result, you can interrogate it to get all of its related attributes. When a Result object is returned, it includes objects that contain information about Variable, Units, ProcessingLevel, and the related Action that created that Result."
   ]
  },
  {
   "cell_type": "code",
   "execution_count": 20,
   "metadata": {},
   "outputs": [
    {
     "name": "stdout",
     "output_type": "stream",
     "text": [
      "------- Example of Retrieving Attributes of a Result -------\n",
      "The following are some of the attributes for the Result retrieved: \n",
      "ResultID: 1\n",
      "ResultTypeCV: Measurement\n",
      "ValueCount: 1\n",
      "ProcessingLevel: Raw Data\n",
      "SampledMedium: Liquid aqueous\n",
      "Variable: TP: Phosphorus, total\n",
      "Units: milligrams per liter\n",
      "SamplingFeatureID: 26\n",
      "SamplingFeatureCode: 3\n"
     ]
    }
   ],
   "source": [
    "print(\"------- Example of Retrieving Attributes of a Result -------\")\n",
    "try:\n",
    "    firstResult = read.getResults()[0]\n",
    "    frfa = firstResult.FeatureActionObj\n",
    "    print(\"The following are some of the attributes for the Result retrieved: \")\n",
    "    print(\"ResultID: {}\".format(firstResult.ResultID))\n",
    "    print(\"ResultTypeCV: {}\".format(firstResult.ResultTypeCV))\n",
    "    print(\"ValueCount: {}\".format(firstResult.ValueCount))\n",
    "    print(\"ProcessingLevel: {}\".format(firstResult.ProcessingLevelObj.Definition))\n",
    "    print(\"SampledMedium: {}\".format(firstResult.SampledMediumCV))\n",
    "    print(\"Variable: {}: {}\".format(firstResult.VariableObj.VariableCode, \n",
    "                                    firstResult.VariableObj.VariableNameCV))\n",
    "    print(\"Units: {}\".format(firstResult.UnitsObj.UnitsName))\n",
    "    print(\"SamplingFeatureID: {}\".format(frfa.SamplingFeatureObj.SamplingFeatureID))\n",
    "    print(\"SamplingFeatureCode: {}\".format(frfa.SamplingFeatureObj.SamplingFeatureCode))\n",
    "except Exception as e:\n",
    "    print(\"Unable to demo example of retrieving Attributes of a Result: \", e)"
   ]
  },
  {
   "cell_type": "markdown",
   "metadata": {},
   "source": [
    "The last block of code returns a particular Measurement Result. From that I can get the SamplingFeaureID (in this case 26) for the Specimen from which the Result was generated. But, if I want to figure out which Site the Specimen was collected at, I need to query the database to get the related Site SamplingFeature.  I can use **getRelatedSamplingFeatures( )** for this.  Once I've got the SamplingFeature for the Site, I could get the rest of the SamplingFeature attributes."
   ]
  },
  {
   "cell_type": "markdown",
   "metadata": {},
   "source": [
    "### Retrieve the \"Related\" Site at which a Specimen was collected"
   ]
  },
  {
   "cell_type": "code",
   "execution_count": 21,
   "metadata": {},
   "outputs": [],
   "source": [
    "# Pass the Sampling Feature ID of the specimen, and the relationship type\n",
    "relatedSite = read.getRelatedSamplingFeatures(sfid=26, relationshiptype='Was Collected at')[0]"
   ]
  },
  {
   "cell_type": "code",
   "execution_count": 22,
   "metadata": {},
   "outputs": [
    {
     "data": {
      "text/plain": [
       "{'ElevationDatumCV': u'EGM96',\n",
       " 'Elevation_m': 1356.0,\n",
       " 'FeatureGeometryWKT': None,\n",
       " 'Latitude': 40.745078,\n",
       " 'Longitude': -111.854449,\n",
       " 'SamplingFeatureCode': u'RB_1300E',\n",
       " 'SamplingFeatureDescription': None,\n",
       " 'SamplingFeatureGeotypeCV': None,\n",
       " 'SamplingFeatureID': 1,\n",
       " 'SamplingFeatureName': u'Red Butte Creek at 1300E (downstream of spring)',\n",
       " 'SamplingFeatureTypeCV': u'Site',\n",
       " 'SamplingFeatureUUID': u'0DDE8EF6-EC2F-42C0-AB50-20C6C02E89B2',\n",
       " 'SiteTypeCV': u'Stream',\n",
       " 'SpatialReferenceID': 1,\n",
       " '_sa_instance_state': <sqlalchemy.orm.state.InstanceState at 0x7fdd5c89bed0>}"
      ]
     },
     "execution_count": 22,
     "metadata": {},
     "output_type": "execute_result"
    }
   ],
   "source": [
    "vars(relatedSite)"
   ]
  },
  {
   "cell_type": "markdown",
   "metadata": {},
   "source": [
    "-----------------------------------------\n",
    "\n",
    "## Return Results and Data Values for a Particular Site/Variable\n",
    "\n",
    "From the list of Variables returned above and the information about the SamplingFeature I queried above, I know that VariableID = 2 for Total Phosphorus and SiteID = 1 for the Red Butte Creek site at 1300E. I can use the **getResults( )** function to get all of the Total Phosphorus results for this site by passing in the VariableID and the SiteID."
   ]
  },
  {
   "cell_type": "code",
   "execution_count": 23,
   "metadata": {},
   "outputs": [],
   "source": [
    "siteID = 1  # Red Butte Creek at 1300 E (obtained from the getRelatedSamplingFeatures query)"
   ]
  },
  {
   "cell_type": "code",
   "execution_count": 24,
   "metadata": {},
   "outputs": [
    {
     "data": {
      "text/plain": [
       "18"
      ]
     },
     "execution_count": 24,
     "metadata": {},
     "output_type": "execute_result"
    }
   ],
   "source": [
    "v = variables_df[variables_df['VariableCode'] == 'TP']\n",
    "variableID = v.index[0]\n",
    "\n",
    "results = read.getResults(siteid=siteID, variableid=variableID, restype=\"Measurement\")\n",
    "# Get the list of ResultIDs so I can retrieve the data values associated with all of the results\n",
    "resultIDList = [x.ResultID for x in results]\n",
    "len(resultIDList)"
   ]
  },
  {
   "cell_type": "markdown",
   "metadata": {},
   "source": [
    "### Retrieve the Result (Data) Values, Then Create a Quick Time Series Plot of the Data\n",
    "\n",
    "Now I can retrieve all of the data values associated with the list of Results I just retrieved. In ODM2, water chemistry measurements are stored as \"Measurement\" results. Each \"Measurement\" Result has a single data value associated with it. So, for convenience, the **getResultValues( )** function allows you to pass in a list of ResultIDs so you can get the data values for all of them back in a Pandas data frame object, which is easier to work with. Once I've got the data in a Pandas data frame object, I can use the **plot( )** function directly on the data frame to create a quick visualization."
   ]
  },
  {
   "cell_type": "code",
   "execution_count": 25,
   "metadata": {},
   "outputs": [
    {
     "data": {
      "text/html": [
       "<div>\n",
       "<style scoped>\n",
       "    .dataframe tbody tr th:only-of-type {\n",
       "        vertical-align: middle;\n",
       "    }\n",
       "\n",
       "    .dataframe tbody tr th {\n",
       "        vertical-align: top;\n",
       "    }\n",
       "\n",
       "    .dataframe thead th {\n",
       "        text-align: right;\n",
       "    }\n",
       "</style>\n",
       "<table border=\"1\" class=\"dataframe\">\n",
       "  <thead>\n",
       "    <tr style=\"text-align: right;\">\n",
       "      <th></th>\n",
       "      <th>ValueID</th>\n",
       "      <th>ResultID</th>\n",
       "      <th>DataValue</th>\n",
       "      <th>ValueDateTime</th>\n",
       "      <th>ValueDateTimeUTCOffset</th>\n",
       "    </tr>\n",
       "  </thead>\n",
       "  <tbody>\n",
       "    <tr>\n",
       "      <th>0</th>\n",
       "      <td>1</td>\n",
       "      <td>1</td>\n",
       "      <td>0.0100</td>\n",
       "      <td>2015-10-27 13:26:24.000000</td>\n",
       "      <td>-7</td>\n",
       "    </tr>\n",
       "    <tr>\n",
       "      <th>1</th>\n",
       "      <td>100</td>\n",
       "      <td>1</td>\n",
       "      <td>0.0100</td>\n",
       "      <td>2015-11-17 13:55:12.000000</td>\n",
       "      <td>-7</td>\n",
       "    </tr>\n",
       "    <tr>\n",
       "      <th>2</th>\n",
       "      <td>109</td>\n",
       "      <td>10</td>\n",
       "      <td>0.0574</td>\n",
       "      <td>2015-05-12 14:24:00.000000</td>\n",
       "      <td>-7</td>\n",
       "    </tr>\n",
       "    <tr>\n",
       "      <th>3</th>\n",
       "      <td>10</td>\n",
       "      <td>10</td>\n",
       "      <td>0.0574</td>\n",
       "      <td>2015-06-18 12:43:12.000000</td>\n",
       "      <td>-7</td>\n",
       "    </tr>\n",
       "    <tr>\n",
       "      <th>4</th>\n",
       "      <td>198</td>\n",
       "      <td>99</td>\n",
       "      <td>0.0424</td>\n",
       "      <td>2015-10-27 13:55:12.000000</td>\n",
       "      <td>-7</td>\n",
       "    </tr>\n",
       "  </tbody>\n",
       "</table>\n",
       "</div>"
      ],
      "text/plain": [
       "   ValueID  ResultID  DataValue               ValueDateTime  \\\n",
       "0        1         1     0.0100  2015-10-27 13:26:24.000000   \n",
       "1      100         1     0.0100  2015-11-17 13:55:12.000000   \n",
       "2      109        10     0.0574  2015-05-12 14:24:00.000000   \n",
       "3       10        10     0.0574  2015-06-18 12:43:12.000000   \n",
       "4      198        99     0.0424  2015-10-27 13:55:12.000000   \n",
       "\n",
       "   ValueDateTimeUTCOffset  \n",
       "0                      -7  \n",
       "1                      -7  \n",
       "2                      -7  \n",
       "3                      -7  \n",
       "4                      -7  "
      ]
     },
     "execution_count": 25,
     "metadata": {},
     "output_type": "execute_result"
    }
   ],
   "source": [
    "# Get all of the data values for the Results in the list created above\n",
    "# Call getResultValues, which returns a Pandas Data Frame with the data\n",
    "resultValues = read.getResultValues(resultids=resultIDList, lowercols=False)\n",
    "resultValues.head()"
   ]
  },
  {
   "cell_type": "code",
   "execution_count": 26,
   "metadata": {},
   "outputs": [
    {
     "data": {
      "image/png": "[encoded data removed]",
      "text/plain": [
       "<Figure size 432x288 with 1 Axes>"
      ]
     },
     "metadata": {
      "needs_background": "light"
     },
     "output_type": "display_data"
    }
   ],
   "source": [
    "# Plot the time sequence of Measurement Result Values \n",
    "ax = resultValues.plot(x='ValueDateTime', y='DataValue', title=relatedSite.SamplingFeatureName,\n",
    "                       kind='line', use_index=True, linestyle='solid', style='o')\n",
    "ax.set_ylabel(\"{0} ({1})\".format(results[0].VariableObj.VariableNameCV, \n",
    "                                 results[0].UnitsObj.UnitsAbbreviation))\n",
    "ax.set_xlabel('Date/Time')\n",
    "ax.grid(True)\n",
    "ax.legend().set_visible(False)"
   ]
  },
  {
   "cell_type": "markdown",
   "metadata": {},
   "source": [
    "**9/23/2018. NOTE CURRENT ISSUE REGARDING `ValueDateTime` RETURNED BY `read.getResultValues`.** There seems to be a problem with the data type returned for `ValueDateTime` for SQLite databases. It should be a datetime, but it's currently a string. This is [being investigated](https://github.com/ODM2/ODM2PythonAPI/issues/158). For now, the x-axis in this plot and the one below do not show proper datetime values, as expected. Refer to the [original notebook]( https://github.com/BiG-CZ/wshp2017_tutorial_content/blob/master/notebooks/ODM2_Example3.ipynb) to see what the axis should look like. This problem wasn't present in Nov. 2017."
   ]
  },
  {
   "cell_type": "markdown",
   "metadata": {},
   "source": [
    "### End with a fancier plot, facilitated via a function\n",
    "\n",
    "If I'm going to reuse a series of steps, it's always helpful to write little generic functions that can be called to quickly and consistently get what we need. To conclude this demo, here's one such function that encapsulates the `VariableID`, `getResults` and `getResultValues` queries we showed above. Then we leverage it to create a nice 2-variable (2-axis) plot of TP and TN vs time, and conclude with a reminder that we have ready access to related metadata about analytical lab methods and such."
   ]
  },
  {
   "cell_type": "code",
   "execution_count": 27,
   "metadata": {},
   "outputs": [],
   "source": [
    "def get_results_and_values(siteid, variablecode):\n",
    "    v = variables_df[variables_df['VariableCode'] == variablecode]\n",
    "    variableID = v.index[0]\n",
    "    \n",
    "    results = read.getResults(siteid=siteid, variableid=variableID, restype=\"Measurement\")\n",
    "    resultIDList = [x.ResultID for x in results]\n",
    "    resultValues = read.getResultValues(resultids=resultIDList, lowercols=False)\n",
    "    \n",
    "    return resultValues, results"
   ]
  },
  {
   "cell_type": "markdown",
   "metadata": {},
   "source": [
    "Fancy plotting, leveraging the `Pandas` plot method and `matplotlib`."
   ]
  },
  {
   "cell_type": "code",
   "execution_count": 28,
   "metadata": {},
   "outputs": [
    {
     "data": {
      "image/png": "[encoded data removed]",
      "text/plain": [
       "<Figure size 936x432 with 2 Axes>"
      ]
     },
     "metadata": {
      "needs_background": "light"
     },
     "output_type": "display_data"
    }
   ],
   "source": [
    "# Plot figure and axis set up (just *one* subplot, actually)\n",
    "f, ax = plt.subplots(1, figsize=(13, 6))\n",
    "\n",
    "# First plot (left axis)\n",
    "VariableCode = 'TP'\n",
    "resultValues_TP, results_TP = get_results_and_values(siteID, VariableCode)\n",
    "resultValues_TP.plot(x='ValueDateTime', y='DataValue', label=VariableCode, \n",
    "                     style='o-', kind='line', ax=ax)\n",
    "ax.set_ylabel(\"{0}: {1} ({2})\".format(VariableCode, results_TP[0].VariableObj.VariableNameCV, \n",
    "                                      results_TP[0].UnitsObj.UnitsAbbreviation))\n",
    "\n",
    "# Second plot (right axis)\n",
    "VariableCode = 'TN'\n",
    "resultValues_TN, results_TN = get_results_and_values(siteID, VariableCode)\n",
    "resultValues_TN.plot(x='ValueDateTime', y='DataValue', label=VariableCode, \n",
    "                     style='^-', kind='line', ax=ax,\n",
    "                     secondary_y=True)\n",
    "ax.right_ax.set_ylabel(\"{0}: {1} ({2})\".format(VariableCode, results_TN[0].VariableObj.VariableNameCV, \n",
    "                                               results_TN[0].UnitsObj.UnitsAbbreviation))\n",
    "\n",
    "# Tweak the figure\n",
    "ax.legend(loc='upper left')\n",
    "ax.right_ax.legend(loc='upper right')\n",
    "\n",
    "ax.grid(True)\n",
    "ax.set_xlabel('')\n",
    "ax.set_title(relatedSite.SamplingFeatureName);"
   ]
  },
  {
   "cell_type": "markdown",
   "metadata": {},
   "source": [
    "Finally, let's show some useful metadata. Use the `Results` records and their relationship to `Actions` (via `FeatureActions`) to **extract and print out the Specimen Analysis methods used for TN and TP**. Or at least for the *first* result for each of the two variables; methods may have varied over time, but the specific method associated with each result is stored in ODM2 and available."
   ]
  },
  {
   "cell_type": "code",
   "execution_count": 29,
   "metadata": {},
   "outputs": [
    {
     "name": "stdout",
     "output_type": "stream",
     "text": [
      "TP METHOD:  Astoria Total Phosphorus (Determination of total phosphorus by persulphate oxidation digestion and ascorbic acid method)\n",
      "TN METHOD:  Astoria Total Nitrogen (Determination of total Nitrogen by persulphate oxidation digestion and cadmium reduction method)\n"
     ]
    }
   ],
   "source": [
    "results_faam = lambda results, i: results[i].FeatureActionObj.ActionObj.MethodObj\n",
    "\n",
    "print(\"TP METHOD:  {0} ({1})\".format(results_faam(results_TP, 0).MethodName,\n",
    "                                     results_faam(results_TP, 0).MethodDescription))\n",
    "print(\"TN METHOD:  {0} ({1})\".format(results_faam(results_TN, 0).MethodName,\n",
    "                                     results_faam(results_TN, 0).MethodDescription))"
   ]
  },
  {
   "cell_type": "code",
   "execution_count": null,
   "metadata": {},
   "outputs": [],
   "source": []
  }
 ],
 "metadata": {
  "kernelspec": {
   "display_name": "Python [conda env:odm2client_20180915]",
   "language": "python",
   "name": "conda-env-odm2client_20180915-py"
  },
  "language_info": {
   "codemirror_mode": {
    "name": "ipython",
    "version": 2
   },
   "file_extension": ".py",
   "mimetype": "text/x-python",
   "name": "python",
   "nbconvert_exporter": "python",
   "pygments_lexer": "ipython2",
   "version": "2.7.15"
  }
 },
 "nbformat": 4,
 "nbformat_minor": 2
}
