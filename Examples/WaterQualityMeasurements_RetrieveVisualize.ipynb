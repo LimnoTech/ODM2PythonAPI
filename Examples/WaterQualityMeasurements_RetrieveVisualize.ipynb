{
 "cells": [
  {
   "cell_type": "markdown",
   "metadata": {},
   "source": [
    "# ODM2 API: Retrieve, manipulate and visualize ODM2 water quality measurement-type data"
   ]
  },
  {
   "cell_type": "markdown",
   "metadata": {},
   "source": [
    "This example shows how to use the ODM2 Python API (`odm2api`) to connect to an ODM2 database, retrieve data, and analyze and visualize the data. The [database (iUTAHGAMUT_waterquality_measurementresults_ODM2.sqlite)](https://github.com/ODM2/ODM2PythonAPI/blob/master/Examples/data/iUTAHGAMUT_waterquality_measurementresults_ODM2.sqlite) contains [\"measurement\"-type results](http://vocabulary.odm2.org/resulttype/measurement/).\n",
    "\n",
    "This example uses SQLite for the database because it doesn't require a server. However, the ODM2 Python API demonstrated here can alse be used with ODM2 databases implemented in MySQL, PostgreSQL or Microsoft SQL Server.\n",
    "\n",
    "More details on the ODM2 Python API and its source code and latest development can be found at https://github.com/ODM2/ODM2PythonAPI\n",
    "\n",
    "[Emilio Mayorga](https://github.com/emiliom/). Last updated 2019-5-10."
   ]
  },
  {
   "cell_type": "markdown",
   "metadata": {},
   "source": [
    "Adapted from notebook https://github.com/BiG-CZ/wshp2017_tutorial_content/blob/master/notebooks/ODM2_Example3.ipynb, based in part on earlier code and an ODM2 database from [Jeff Horsburgh's group](http://jeffh.usu.edu) at Utah State University."
   ]
  },
  {
   "cell_type": "code",
   "execution_count": 1,
   "metadata": {},
   "outputs": [
    {
     "name": "stderr",
     "output_type": "stream",
     "text": [
      "/home/mayorga/miniconda/envs/odm2api_dev/lib/python2.7/site-packages/folium/__init__.py:59: UserWarning: This version of folium is the last to support Python 2. Transition to Python 3 to be able to receive updates and fixes. Check out https://python3statement.org/ for more info.\n",
      "  UserWarning\n"
     ]
    }
   ],
   "source": [
    "import os\n",
    "\n",
    "import matplotlib.pyplot as plt\n",
    "%matplotlib inline\n",
    "\n",
    "from shapely.geometry import Point\n",
    "import pandas as pd\n",
    "import geopandas as gpd\n",
    "import folium\n",
    "from folium.plugins import MarkerCluster\n",
    "\n",
    "import odm2api\n",
    "from odm2api.ODMconnection import dbconnection\n",
    "import odm2api.services.readService as odm2rs\n",
    "from odm2api.models import SamplingFeatures"
   ]
  },
  {
   "cell_type": "code",
   "execution_count": 2,
   "metadata": {},
   "outputs": [
    {
     "data": {
      "text/plain": [
       "(u'0.24.2', u'0.5.0', u'0.8.3')"
      ]
     },
     "execution_count": 2,
     "metadata": {},
     "output_type": "execute_result"
    }
   ],
   "source": [
    "pd.__version__, gpd.__version__, folium.__version__"
   ]
  },
  {
   "cell_type": "markdown",
   "metadata": {},
   "source": [
    "**odm2api version used** to run this notebook:"
   ]
  },
  {
   "cell_type": "code",
   "execution_count": 3,
   "metadata": {},
   "outputs": [
    {
     "data": {
      "text/plain": [
       "'0.7.1+12.g6997f36'"
      ]
     },
     "execution_count": 3,
     "metadata": {},
     "output_type": "execute_result"
    }
   ],
   "source": [
    "odm2api.__version__"
   ]
  },
  {
   "cell_type": "markdown",
   "metadata": {},
   "source": [
    "## Connect to the ODM2 SQLite Database\n",
    "\n",
    "This example uses an ODM2 SQLite database file loaded with water quality sample data from multiple monitoring sites in the [iUTAH](https://iutahepscor.org/) Gradients Along Mountain to Urban Transitions ([GAMUT](http://data.iutahepscor.org/mdf/Data/Gamut_Network/)) water quality monitoring network. Water quality samples have been collected and analyzed for nitrogen, phosphorus, total coliform, E-coli, and some water isotopes. The [database (iUTAHGAMUT_waterquality_measurementresults_ODM2.sqlite)](https://github.com/ODM2/ODM2PythonAPI/blob/master/Examples/data/iUTAHGAMUT_waterquality_measurementresults_ODM2.sqlite) contains [\"measurement\"-type results](http://vocabulary.odm2.org/resulttype/measurement/).\n",
    "\n",
    "The example database is located in the `data` sub-directory."
   ]
  },
  {
   "cell_type": "code",
   "execution_count": 4,
   "metadata": {},
   "outputs": [],
   "source": [
    "# Assign directory paths and SQLite file name\n",
    "dbname_sqlite = \"iUTAHGAMUT_waterquality_measurementresults_ODM2.sqlite\"\n",
    "\n",
    "sqlite_pth = os.path.join(\"data\", dbname_sqlite)"
   ]
  },
  {
   "cell_type": "code",
   "execution_count": 5,
   "metadata": {},
   "outputs": [
    {
     "name": "stdout",
     "output_type": "stream",
     "text": [
      "Database connection successful!\n"
     ]
    }
   ],
   "source": [
    "try:\n",
    "    session_factory = dbconnection.createConnection('sqlite', sqlite_pth)\n",
    "    read = odm2rs.ReadODM2(session_factory)\n",
    "    print(\"Database connection successful!\")\n",
    "except Exception as e:\n",
    "    print(\"Unable to establish connection to the database: \", e)"
   ]
  },
  {
   "cell_type": "markdown",
   "metadata": {},
   "source": [
    "## Run Some Basic Queries on the ODM2 Database\n",
    "\n",
    "This section shows some examples of how to use the API to run both simple and more advanced queries on the ODM2 database, as well as how to examine the query output in convenient ways thanks to Python tools.\n",
    "\n",
    "Simple query functions like **getVariables( )** return objects similar to the entities in ODM2, and individual attributes can then be retrieved from the objects returned. "
   ]
  },
  {
   "cell_type": "markdown",
   "metadata": {},
   "source": [
    "### Get all Variables\n",
    "A simple query with simple output."
   ]
  },
  {
   "cell_type": "code",
   "execution_count": 6,
   "metadata": {},
   "outputs": [
    {
     "data": {
      "text/html": [
       "<div>\n",
       "<style scoped>\n",
       "    .dataframe tbody tr th:only-of-type {\n",
       "        vertical-align: middle;\n",
       "    }\n",
       "\n",
       "    .dataframe tbody tr th {\n",
       "        vertical-align: top;\n",
       "    }\n",
       "\n",
       "    .dataframe thead th {\n",
       "        text-align: right;\n",
       "    }\n",
       "</style>\n",
       "<table border=\"1\" class=\"dataframe\">\n",
       "  <thead>\n",
       "    <tr style=\"text-align: right;\">\n",
       "      <th></th>\n",
       "      <th>NoDataValue</th>\n",
       "      <th>SpeciationCV</th>\n",
       "      <th>VariableCode</th>\n",
       "      <th>VariableDefinition</th>\n",
       "      <th>VariableNameCV</th>\n",
       "      <th>VariableTypeCV</th>\n",
       "      <th>_sa_instance_state</th>\n",
       "    </tr>\n",
       "    <tr>\n",
       "      <th>VariableID</th>\n",
       "      <th></th>\n",
       "      <th></th>\n",
       "      <th></th>\n",
       "      <th></th>\n",
       "      <th></th>\n",
       "      <th></th>\n",
       "      <th></th>\n",
       "    </tr>\n",
       "  </thead>\n",
       "  <tbody>\n",
       "    <tr>\n",
       "      <th>1</th>\n",
       "      <td>-9999.0000000000</td>\n",
       "      <td>N</td>\n",
       "      <td>TN</td>\n",
       "      <td>None</td>\n",
       "      <td>Nitrogen, total</td>\n",
       "      <td>Water quality</td>\n",
       "      <td>&lt;sqlalchemy.orm.state.InstanceState object at ...</td>\n",
       "    </tr>\n",
       "    <tr>\n",
       "      <th>2</th>\n",
       "      <td>-9999.0000000000</td>\n",
       "      <td>P</td>\n",
       "      <td>TP</td>\n",
       "      <td>None</td>\n",
       "      <td>Phosphorus, total</td>\n",
       "      <td>Water quality</td>\n",
       "      <td>&lt;sqlalchemy.orm.state.InstanceState object at ...</td>\n",
       "    </tr>\n",
       "    <tr>\n",
       "      <th>3</th>\n",
       "      <td>-9999.0000000000</td>\n",
       "      <td>N</td>\n",
       "      <td>Nitrate</td>\n",
       "      <td>None</td>\n",
       "      <td>Nitrogen, dissolved nitrite (NO2) + nitrate (NO3)</td>\n",
       "      <td>Water quality</td>\n",
       "      <td>&lt;sqlalchemy.orm.state.InstanceState object at ...</td>\n",
       "    </tr>\n",
       "    <tr>\n",
       "      <th>4</th>\n",
       "      <td>-9999.0000000000</td>\n",
       "      <td>N</td>\n",
       "      <td>Ammonia</td>\n",
       "      <td>None</td>\n",
       "      <td>Nitrogen, NH4</td>\n",
       "      <td>Water quality</td>\n",
       "      <td>&lt;sqlalchemy.orm.state.InstanceState object at ...</td>\n",
       "    </tr>\n",
       "    <tr>\n",
       "      <th>5</th>\n",
       "      <td>-9999.0000000000</td>\n",
       "      <td>P</td>\n",
       "      <td>Phosphate</td>\n",
       "      <td>None</td>\n",
       "      <td>Phosphorus, orthophosphate dissolved</td>\n",
       "      <td>Water quality</td>\n",
       "      <td>&lt;sqlalchemy.orm.state.InstanceState object at ...</td>\n",
       "    </tr>\n",
       "    <tr>\n",
       "      <th>6</th>\n",
       "      <td>-9999.0000000000</td>\n",
       "      <td>Not Applicable</td>\n",
       "      <td>Tcoliform</td>\n",
       "      <td>None</td>\n",
       "      <td>Coliform, total</td>\n",
       "      <td>Water quality</td>\n",
       "      <td>&lt;sqlalchemy.orm.state.InstanceState object at ...</td>\n",
       "    </tr>\n",
       "    <tr>\n",
       "      <th>7</th>\n",
       "      <td>-9999.0000000000</td>\n",
       "      <td>Not Applicable</td>\n",
       "      <td>E-Coli</td>\n",
       "      <td>None</td>\n",
       "      <td>E-coli</td>\n",
       "      <td>Water quality</td>\n",
       "      <td>&lt;sqlalchemy.orm.state.InstanceState object at ...</td>\n",
       "    </tr>\n",
       "    <tr>\n",
       "      <th>8</th>\n",
       "      <td>-9999.0000000000</td>\n",
       "      <td>C</td>\n",
       "      <td>DOC</td>\n",
       "      <td>None</td>\n",
       "      <td>Carbon, dissolved organic</td>\n",
       "      <td>Water quality</td>\n",
       "      <td>&lt;sqlalchemy.orm.state.InstanceState object at ...</td>\n",
       "    </tr>\n",
       "    <tr>\n",
       "      <th>9</th>\n",
       "      <td>-9999.0000000000</td>\n",
       "      <td>N</td>\n",
       "      <td>TDN</td>\n",
       "      <td>None</td>\n",
       "      <td>Nitrogen, total dissolved</td>\n",
       "      <td>Water quality</td>\n",
       "      <td>&lt;sqlalchemy.orm.state.InstanceState object at ...</td>\n",
       "    </tr>\n",
       "    <tr>\n",
       "      <th>10</th>\n",
       "      <td>-9999.0000000000</td>\n",
       "      <td>Not Applicable</td>\n",
       "      <td>Abs254</td>\n",
       "      <td>None</td>\n",
       "      <td>Absorbance</td>\n",
       "      <td>Water quality</td>\n",
       "      <td>&lt;sqlalchemy.orm.state.InstanceState object at ...</td>\n",
       "    </tr>\n",
       "  </tbody>\n",
       "</table>\n",
       "</div>"
      ],
      "text/plain": [
       "                 NoDataValue    SpeciationCV VariableCode VariableDefinition  \\\n",
       "VariableID                                                                     \n",
       "1           -9999.0000000000               N           TN               None   \n",
       "2           -9999.0000000000               P           TP               None   \n",
       "3           -9999.0000000000               N      Nitrate               None   \n",
       "4           -9999.0000000000               N      Ammonia               None   \n",
       "5           -9999.0000000000               P    Phosphate               None   \n",
       "6           -9999.0000000000  Not Applicable    Tcoliform               None   \n",
       "7           -9999.0000000000  Not Applicable       E-Coli               None   \n",
       "8           -9999.0000000000               C          DOC               None   \n",
       "9           -9999.0000000000               N          TDN               None   \n",
       "10          -9999.0000000000  Not Applicable       Abs254               None   \n",
       "\n",
       "                                               VariableNameCV VariableTypeCV  \\\n",
       "VariableID                                                                     \n",
       "1                                             Nitrogen, total  Water quality   \n",
       "2                                           Phosphorus, total  Water quality   \n",
       "3           Nitrogen, dissolved nitrite (NO2) + nitrate (NO3)  Water quality   \n",
       "4                                               Nitrogen, NH4  Water quality   \n",
       "5                        Phosphorus, orthophosphate dissolved  Water quality   \n",
       "6                                             Coliform, total  Water quality   \n",
       "7                                                      E-coli  Water quality   \n",
       "8                                   Carbon, dissolved organic  Water quality   \n",
       "9                                   Nitrogen, total dissolved  Water quality   \n",
       "10                                                 Absorbance  Water quality   \n",
       "\n",
       "                                           _sa_instance_state  \n",
       "VariableID                                                     \n",
       "1           <sqlalchemy.orm.state.InstanceState object at ...  \n",
       "2           <sqlalchemy.orm.state.InstanceState object at ...  \n",
       "3           <sqlalchemy.orm.state.InstanceState object at ...  \n",
       "4           <sqlalchemy.orm.state.InstanceState object at ...  \n",
       "5           <sqlalchemy.orm.state.InstanceState object at ...  \n",
       "6           <sqlalchemy.orm.state.InstanceState object at ...  \n",
       "7           <sqlalchemy.orm.state.InstanceState object at ...  \n",
       "8           <sqlalchemy.orm.state.InstanceState object at ...  \n",
       "9           <sqlalchemy.orm.state.InstanceState object at ...  \n",
       "10          <sqlalchemy.orm.state.InstanceState object at ...  "
      ]
     },
     "execution_count": 6,
     "metadata": {},
     "output_type": "execute_result"
    }
   ],
   "source": [
    "# Get all of the Variables from the ODM2 database then read the records\n",
    "# into a Pandas DataFrame to make it easy to view and manipulate\n",
    "allVars = read.getVariables()\n",
    "\n",
    "variables_df = pd.DataFrame.from_records([vars(variable) for variable in allVars], \n",
    "                                         index='VariableID')\n",
    "variables_df.head(10)"
   ]
  },
  {
   "cell_type": "markdown",
   "metadata": {},
   "source": [
    "### Get all People\n",
    "Another simple query."
   ]
  },
  {
   "cell_type": "code",
   "execution_count": 7,
   "metadata": {},
   "outputs": [
    {
     "data": {
      "text/html": [
       "<div>\n",
       "<style scoped>\n",
       "    .dataframe tbody tr th:only-of-type {\n",
       "        vertical-align: middle;\n",
       "    }\n",
       "\n",
       "    .dataframe tbody tr th {\n",
       "        vertical-align: top;\n",
       "    }\n",
       "\n",
       "    .dataframe thead th {\n",
       "        text-align: right;\n",
       "    }\n",
       "</style>\n",
       "<table border=\"1\" class=\"dataframe\">\n",
       "  <thead>\n",
       "    <tr style=\"text-align: right;\">\n",
       "      <th></th>\n",
       "      <th>PersonFirstName</th>\n",
       "      <th>PersonID</th>\n",
       "      <th>PersonLastName</th>\n",
       "      <th>PersonMiddleName</th>\n",
       "      <th>_sa_instance_state</th>\n",
       "    </tr>\n",
       "  </thead>\n",
       "  <tbody>\n",
       "    <tr>\n",
       "      <th>0</th>\n",
       "      <td>Nancy</td>\n",
       "      <td>1</td>\n",
       "      <td>Mesner</td>\n",
       "      <td></td>\n",
       "      <td>&lt;sqlalchemy.orm.state.InstanceState object at ...</td>\n",
       "    </tr>\n",
       "    <tr>\n",
       "      <th>1</th>\n",
       "      <td>Dane</td>\n",
       "      <td>2</td>\n",
       "      <td>Brophy</td>\n",
       "      <td></td>\n",
       "      <td>&lt;sqlalchemy.orm.state.InstanceState object at ...</td>\n",
       "    </tr>\n",
       "    <tr>\n",
       "      <th>2</th>\n",
       "      <td>Ben</td>\n",
       "      <td>3</td>\n",
       "      <td>Rider</td>\n",
       "      <td></td>\n",
       "      <td>&lt;sqlalchemy.orm.state.InstanceState object at ...</td>\n",
       "    </tr>\n",
       "    <tr>\n",
       "      <th>3</th>\n",
       "      <td>Michelle</td>\n",
       "      <td>4</td>\n",
       "      <td>Baker</td>\n",
       "      <td></td>\n",
       "      <td>&lt;sqlalchemy.orm.state.InstanceState object at ...</td>\n",
       "    </tr>\n",
       "    <tr>\n",
       "      <th>4</th>\n",
       "      <td>Erin</td>\n",
       "      <td>5</td>\n",
       "      <td>Jones</td>\n",
       "      <td></td>\n",
       "      <td>&lt;sqlalchemy.orm.state.InstanceState object at ...</td>\n",
       "    </tr>\n",
       "  </tbody>\n",
       "</table>\n",
       "</div>"
      ],
      "text/plain": [
       "  PersonFirstName  PersonID PersonLastName PersonMiddleName  \\\n",
       "0           Nancy         1         Mesner                    \n",
       "1            Dane         2         Brophy                    \n",
       "2             Ben         3          Rider                    \n",
       "3        Michelle         4          Baker                    \n",
       "4            Erin         5          Jones                    \n",
       "\n",
       "                                  _sa_instance_state  \n",
       "0  <sqlalchemy.orm.state.InstanceState object at ...  \n",
       "1  <sqlalchemy.orm.state.InstanceState object at ...  \n",
       "2  <sqlalchemy.orm.state.InstanceState object at ...  \n",
       "3  <sqlalchemy.orm.state.InstanceState object at ...  \n",
       "4  <sqlalchemy.orm.state.InstanceState object at ...  "
      ]
     },
     "execution_count": 7,
     "metadata": {},
     "output_type": "execute_result"
    }
   ],
   "source": [
    "allPeople = read.getPeople()\n",
    "pd.DataFrame.from_records([vars(person) for person in allPeople]).head()"
   ]
  },
  {
   "cell_type": "markdown",
   "metadata": {},
   "source": [
    "### Site Sampling Features: pass arguments to the API query\n",
    "\n",
    "Some of the API functions accept arguments that let you subset what is returned. For example, I can query the database using the **getSamplingFeatures( )** function and pass it a SamplingFeatureType of \"Site\" to return a list of those SamplingFeatures that are Sites."
   ]
  },
  {
   "cell_type": "code",
   "execution_count": 8,
   "metadata": {},
   "outputs": [],
   "source": [
    "# Get all of the SamplingFeatures from the ODM2 database that are Sites\n",
    "siteFeatures = read.getSamplingFeatures(sftype='Site')\n",
    "\n",
    "# Read Sites records into a Pandas DataFrame\n",
    "# \"if sf.Latitude\" is used only to instantiate/read Site attributes)\n",
    "df = pd.DataFrame.from_records([vars(sf) for sf in siteFeatures if sf.Latitude])"
   ]
  },
  {
   "cell_type": "markdown",
   "metadata": {},
   "source": [
    "Since we know this is a *geospatial* dataset (Sites, which have latitude and longitude), we can use more specialized Python tools like `GeoPandas` (geospatially enabled Pandas) and `Folium` interactive maps."
   ]
  },
  {
   "cell_type": "code",
   "execution_count": 9,
   "metadata": {},
   "outputs": [
    {
     "data": {
      "text/html": [
       "<div>\n",
       "<style scoped>\n",
       "    .dataframe tbody tr th:only-of-type {\n",
       "        vertical-align: middle;\n",
       "    }\n",
       "\n",
       "    .dataframe tbody tr th {\n",
       "        vertical-align: top;\n",
       "    }\n",
       "\n",
       "    .dataframe thead th {\n",
       "        text-align: right;\n",
       "    }\n",
       "</style>\n",
       "<table border=\"1\" class=\"dataframe\">\n",
       "  <thead>\n",
       "    <tr style=\"text-align: right;\">\n",
       "      <th></th>\n",
       "      <th>ElevationDatumCV</th>\n",
       "      <th>Elevation_m</th>\n",
       "      <th>FeatureGeometryWKT</th>\n",
       "      <th>Latitude</th>\n",
       "      <th>Longitude</th>\n",
       "      <th>SamplingFeatureCode</th>\n",
       "      <th>SamplingFeatureDescription</th>\n",
       "      <th>SamplingFeatureGeotypeCV</th>\n",
       "      <th>SamplingFeatureID</th>\n",
       "      <th>SamplingFeatureName</th>\n",
       "      <th>SamplingFeatureTypeCV</th>\n",
       "      <th>SamplingFeatureUUID</th>\n",
       "      <th>SiteTypeCV</th>\n",
       "      <th>SpatialReferenceID</th>\n",
       "      <th>_sa_instance_state</th>\n",
       "      <th>geometry</th>\n",
       "    </tr>\n",
       "  </thead>\n",
       "  <tbody>\n",
       "    <tr>\n",
       "      <th>0</th>\n",
       "      <td>EGM96</td>\n",
       "      <td>1356.0</td>\n",
       "      <td>None</td>\n",
       "      <td>40.745078</td>\n",
       "      <td>-111.854449</td>\n",
       "      <td>RB_1300E</td>\n",
       "      <td>None</td>\n",
       "      <td>None</td>\n",
       "      <td>1</td>\n",
       "      <td>Red Butte Creek at 1300E (downstream of spring)</td>\n",
       "      <td>Site</td>\n",
       "      <td>0DDE8EF6-EC2F-42C0-AB50-20C6C02E89B2</td>\n",
       "      <td>Stream</td>\n",
       "      <td>1</td>\n",
       "      <td>&lt;sqlalchemy.orm.state.InstanceState object at ...</td>\n",
       "      <td>POINT (-111.854449 40.745078)</td>\n",
       "    </tr>\n",
       "    <tr>\n",
       "      <th>1</th>\n",
       "      <td>EGM96</td>\n",
       "      <td>1356.0</td>\n",
       "      <td>None</td>\n",
       "      <td>40.745106</td>\n",
       "      <td>-111.854389</td>\n",
       "      <td>RB_1300ESpring</td>\n",
       "      <td>None</td>\n",
       "      <td>None</td>\n",
       "      <td>2</td>\n",
       "      <td>Spring that enters Red Butte Creek at 1300E</td>\n",
       "      <td>Site</td>\n",
       "      <td>9848BBFE-EA3F-4918-A324-13E8EDE5381C</td>\n",
       "      <td>Spring</td>\n",
       "      <td>1</td>\n",
       "      <td>&lt;sqlalchemy.orm.state.InstanceState object at ...</td>\n",
       "      <td>POINT (-111.854389 40.745106)</td>\n",
       "    </tr>\n",
       "    <tr>\n",
       "      <th>2</th>\n",
       "      <td>EGM96</td>\n",
       "      <td>1289.0</td>\n",
       "      <td>None</td>\n",
       "      <td>40.741583</td>\n",
       "      <td>-111.917667</td>\n",
       "      <td>RB_900W_BA</td>\n",
       "      <td>None</td>\n",
       "      <td>None</td>\n",
       "      <td>3</td>\n",
       "      <td>Red Butte Creek terminus at Jordan River at 13...</td>\n",
       "      <td>Site</td>\n",
       "      <td>688017BC-9E02-4444-A21D-270366BE2348</td>\n",
       "      <td>Stream</td>\n",
       "      <td>1</td>\n",
       "      <td>&lt;sqlalchemy.orm.state.InstanceState object at ...</td>\n",
       "      <td>POINT (-111.917667 40.741583)</td>\n",
       "    </tr>\n",
       "    <tr>\n",
       "      <th>3</th>\n",
       "      <td>EGM96</td>\n",
       "      <td>1519.0</td>\n",
       "      <td>None</td>\n",
       "      <td>40.766134</td>\n",
       "      <td>-111.826530</td>\n",
       "      <td>RB_Amphitheater</td>\n",
       "      <td>None</td>\n",
       "      <td>None</td>\n",
       "      <td>4</td>\n",
       "      <td>Red Butte Creek below Red Butte Garden Amphith...</td>\n",
       "      <td>Site</td>\n",
       "      <td>9CFE685B-5CDA-4E38-98D9-406D645C7D21</td>\n",
       "      <td>Stream</td>\n",
       "      <td>1</td>\n",
       "      <td>&lt;sqlalchemy.orm.state.InstanceState object at ...</td>\n",
       "      <td>POINT (-111.82653 40.766134)</td>\n",
       "    </tr>\n",
       "    <tr>\n",
       "      <th>4</th>\n",
       "      <td>EGM96</td>\n",
       "      <td>1648.0</td>\n",
       "      <td>None</td>\n",
       "      <td>40.779602</td>\n",
       "      <td>-111.806669</td>\n",
       "      <td>RB_ARBR_AA</td>\n",
       "      <td>None</td>\n",
       "      <td>None</td>\n",
       "      <td>5</td>\n",
       "      <td>Red Butte Creek above Red Butte Reservoir Adan...</td>\n",
       "      <td>Site</td>\n",
       "      <td>98C7F63A-FDFB-4898-87C6-5AA8EC34D1E4</td>\n",
       "      <td>Stream</td>\n",
       "      <td>1</td>\n",
       "      <td>&lt;sqlalchemy.orm.state.InstanceState object at ...</td>\n",
       "      <td>POINT (-111.806669 40.779602)</td>\n",
       "    </tr>\n",
       "  </tbody>\n",
       "</table>\n",
       "</div>"
      ],
      "text/plain": [
       "  ElevationDatumCV  Elevation_m FeatureGeometryWKT   Latitude   Longitude  \\\n",
       "0            EGM96       1356.0               None  40.745078 -111.854449   \n",
       "1            EGM96       1356.0               None  40.745106 -111.854389   \n",
       "2            EGM96       1289.0               None  40.741583 -111.917667   \n",
       "3            EGM96       1519.0               None  40.766134 -111.826530   \n",
       "4            EGM96       1648.0               None  40.779602 -111.806669   \n",
       "\n",
       "  SamplingFeatureCode SamplingFeatureDescription SamplingFeatureGeotypeCV  \\\n",
       "0            RB_1300E                       None                     None   \n",
       "1      RB_1300ESpring                       None                     None   \n",
       "2          RB_900W_BA                       None                     None   \n",
       "3     RB_Amphitheater                       None                     None   \n",
       "4          RB_ARBR_AA                       None                     None   \n",
       "\n",
       "   SamplingFeatureID                                SamplingFeatureName  \\\n",
       "0                  1    Red Butte Creek at 1300E (downstream of spring)   \n",
       "1                  2        Spring that enters Red Butte Creek at 1300E   \n",
       "2                  3  Red Butte Creek terminus at Jordan River at 13...   \n",
       "3                  4  Red Butte Creek below Red Butte Garden Amphith...   \n",
       "4                  5  Red Butte Creek above Red Butte Reservoir Adan...   \n",
       "\n",
       "  SamplingFeatureTypeCV                   SamplingFeatureUUID SiteTypeCV  \\\n",
       "0                  Site  0DDE8EF6-EC2F-42C0-AB50-20C6C02E89B2     Stream   \n",
       "1                  Site  9848BBFE-EA3F-4918-A324-13E8EDE5381C     Spring   \n",
       "2                  Site  688017BC-9E02-4444-A21D-270366BE2348     Stream   \n",
       "3                  Site  9CFE685B-5CDA-4E38-98D9-406D645C7D21     Stream   \n",
       "4                  Site  98C7F63A-FDFB-4898-87C6-5AA8EC34D1E4     Stream   \n",
       "\n",
       "   SpatialReferenceID                                 _sa_instance_state  \\\n",
       "0                   1  <sqlalchemy.orm.state.InstanceState object at ...   \n",
       "1                   1  <sqlalchemy.orm.state.InstanceState object at ...   \n",
       "2                   1  <sqlalchemy.orm.state.InstanceState object at ...   \n",
       "3                   1  <sqlalchemy.orm.state.InstanceState object at ...   \n",
       "4                   1  <sqlalchemy.orm.state.InstanceState object at ...   \n",
       "\n",
       "                        geometry  \n",
       "0  POINT (-111.854449 40.745078)  \n",
       "1  POINT (-111.854389 40.745106)  \n",
       "2  POINT (-111.917667 40.741583)  \n",
       "3   POINT (-111.82653 40.766134)  \n",
       "4  POINT (-111.806669 40.779602)  "
      ]
     },
     "execution_count": 9,
     "metadata": {},
     "output_type": "execute_result"
    }
   ],
   "source": [
    "# Create a GeoPandas GeoDataFrame from Sites DataFrame\n",
    "ptgeom = [Point(xy) for xy in zip(df['Longitude'], df['Latitude'])]\n",
    "gdf = gpd.GeoDataFrame(df, geometry=ptgeom, crs={'init': 'epsg:4326'})\n",
    "gdf.head(5)"
   ]
  },
  {
   "cell_type": "code",
   "execution_count": 10,
   "metadata": {},
   "outputs": [
    {
     "data": {
      "text/plain": [
       "25"
      ]
     },
     "execution_count": 10,
     "metadata": {},
     "output_type": "execute_result"
    }
   ],
   "source": [
    "# Number of records (features) in GeoDataFrame\n",
    "len(gdf)"
   ]
  },
  {
   "cell_type": "code",
   "execution_count": 11,
   "metadata": {},
   "outputs": [
    {
     "data": {
      "image/png": "[encoded data removed]",
      "text/plain": [
       "<Figure size 432x288 with 1 Axes>"
      ]
     },
     "metadata": {
      "needs_background": "light"
     },
     "output_type": "display_data"
    }
   ],
   "source": [
    "# A trivial but easy-to-generate GeoPandas plot\n",
    "gdf.plot();"
   ]
  },
  {
   "cell_type": "markdown",
   "metadata": {},
   "source": [
    "A site has a `SiteTypeCV`. Let's examine the site type distribution, and use that information to create a new GeoDataFrame column to specify a map marker color by `SiteTypeCV`."
   ]
  },
  {
   "cell_type": "code",
   "execution_count": 12,
   "metadata": {},
   "outputs": [
    {
     "data": {
      "text/plain": [
       "Stream    24\n",
       "Spring     1\n",
       "Name: SiteTypeCV, dtype: int64"
      ]
     },
     "execution_count": 12,
     "metadata": {},
     "output_type": "execute_result"
    }
   ],
   "source": [
    "gdf['SiteTypeCV'].value_counts()"
   ]
  },
  {
   "cell_type": "code",
   "execution_count": 13,
   "metadata": {},
   "outputs": [],
   "source": [
    "gdf[\"color\"] = gdf.apply(lambda feat: 'green' if feat['SiteTypeCV'] == 'Stream' else 'red', axis=1)"
   ]
  },
  {
   "cell_type": "markdown",
   "metadata": {},
   "source": [
    "Note: While the database holds a copy of the **ODM2 Controlled Vocabularies**, the complete description of each CV term is available from a web request to the CV API at http://vocabulary.odm2.org. Want to know more about how a \"spring\" is defined? Here's one simple way, using `Pandas` to access and parse the CSV web service response."
   ]
  },
  {
   "cell_type": "code",
   "execution_count": 14,
   "metadata": {},
   "outputs": [
    {
     "data": {
      "text/html": [
       "<div>\n",
       "<style scoped>\n",
       "    .dataframe tbody tr th:only-of-type {\n",
       "        vertical-align: middle;\n",
       "    }\n",
       "\n",
       "    .dataframe tbody tr th {\n",
       "        vertical-align: top;\n",
       "    }\n",
       "\n",
       "    .dataframe thead th {\n",
       "        text-align: right;\n",
       "    }\n",
       "</style>\n",
       "<table border=\"1\" class=\"dataframe\">\n",
       "  <thead>\n",
       "    <tr style=\"text-align: right;\">\n",
       "      <th></th>\n",
       "      <th>term</th>\n",
       "      <th>name</th>\n",
       "      <th>definition</th>\n",
       "      <th>category</th>\n",
       "      <th>provenance</th>\n",
       "      <th>provenance_uri</th>\n",
       "      <th>note</th>\n",
       "    </tr>\n",
       "  </thead>\n",
       "  <tbody>\n",
       "    <tr>\n",
       "      <th>0</th>\n",
       "      <td>spring</td>\n",
       "      <td>Spring</td>\n",
       "      <td>A location at which the water table intersects...</td>\n",
       "      <td>Spring Sites</td>\n",
       "      <td>Adapted from USGS Site Types.</td>\n",
       "      <td>NaN</td>\n",
       "      <td>http://wdr.water.usgs.gov/nwisgmap/help/sitety...</td>\n",
       "    </tr>\n",
       "  </tbody>\n",
       "</table>\n",
       "</div>"
      ],
      "text/plain": [
       "     term    name                                         definition  \\\n",
       "0  spring  Spring  A location at which the water table intersects...   \n",
       "\n",
       "       category                     provenance  provenance_uri  \\\n",
       "0  Spring Sites  Adapted from USGS Site Types.             NaN   \n",
       "\n",
       "                                                note  \n",
       "0  http://wdr.water.usgs.gov/nwisgmap/help/sitety...  "
      ]
     },
     "execution_count": 14,
     "metadata": {},
     "output_type": "execute_result"
    }
   ],
   "source": [
    "sitetype = 'spring'\n",
    "pd.read_csv(\"http://vocabulary.odm2.org/api/v1/sitetype/{}/?format=csv\".format(sitetype))"
   ]
  },
  {
   "cell_type": "markdown",
   "metadata": {},
   "source": [
    "**Now we'll create an interactive and helpful `Folium` map of the sites.** This map features:\n",
    "- Automatic panning to the location of the sites (no hard wiring, except for the zoom scale), based on GeoPandas functionality and information from the ODM2 Site Sampling Features\n",
    "- Color coding by `SiteTypeCV` \n",
    "- Marker clustering\n",
    "- Simple marker pop ups with content from the ODM2 Site Sampling Features"
   ]
  },
  {
   "cell_type": "code",
   "execution_count": 15,
   "metadata": {},
   "outputs": [
    {
     "data": {
      "text/html": [
       "<div style=\"width:100%;\"><div style=\"position:relative;width:100%;height:0;padding-bottom:60%;\"><iframe src=\"data:text/html;charset=utf-8;base64,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\" style=\"position:absolute;width:100%;height:100%;left:0;top:0;border:none !important;\" allowfullscreen webkitallowfullscreen mozallowfullscreen></iframe></div></div>"
      ],
      "text/plain": [
       "<folium.folium.Map at 0x7ff53f775390>"
      ]
     },
     "execution_count": 15,
     "metadata": {},
     "output_type": "execute_result"
    }
   ],
   "source": [
    "c = gdf.unary_union.centroid\n",
    "m = folium.Map(location=[c.y, c.x], tiles='CartoDB positron', zoom_start=11)\n",
    "\n",
    "marker_cluster = MarkerCluster().add_to(m)\n",
    "for idx, feature in gdf.iterrows():\n",
    "    folium.Marker(location=[feature.geometry.y, feature.geometry.x], \n",
    "                  icon=folium.Icon(color=feature['color']),\n",
    "                  popup=\"{0} ({1}): {2}\".format(\n",
    "                      feature['SamplingFeatureCode'], feature['SiteTypeCV'], \n",
    "                      feature['SamplingFeatureName'])\n",
    "                 ).add_to(marker_cluster)\n",
    "\n",
    "    \n",
    "# Done with setup. Now render the map\n",
    "m"
   ]
  },
  {
   "cell_type": "markdown",
   "metadata": {},
   "source": [
    "### Add a new Sampling Feature\n",
    "Just to llustrate how to add a new entry. We won't \"commit\" (save) the sampling feature to the database."
   ]
  },
  {
   "cell_type": "code",
   "execution_count": 16,
   "metadata": {},
   "outputs": [
    {
     "name": "stdout",
     "output_type": "stream",
     "text": [
      "New sampling feature created, but not saved to database.\n",
      "\n",
      "<SamplingFeatures({'SamplingFeatureDescription': 'this is a test to add a sampling feature', 'SamplingFeatureGeotypeCV': 'Point', 'ElevationDatumCV': u'EGM96', 'Elevation_m': 100, 'SamplingFeatureUUID': u'0DDE8EF6-EC2F-42C0-AB50-20C6C02E89B22', 'SamplingFeatureTypeCV': u'Site', 'SamplingFeatureCode': 'TestSF', 'FeatureGeometryWKT': 'POINT(-111.946 41.718)'})>\n"
     ]
    }
   ],
   "source": [
    "sitesf0 = siteFeatures[0]\n",
    "\n",
    "try:\n",
    "    newsf = SamplingFeatures()\n",
    "    session = session_factory.getSession()\n",
    "    newsf.FeatureGeometryWKT = \"POINT(-111.946 41.718)\"\n",
    "    newsf.Elevation_m = 100\n",
    "    newsf.ElevationDatumCV = sitesf0.ElevationDatumCV\n",
    "    newsf.SamplingFeatureCode = \"TestSF\"\n",
    "    newsf.SamplingFeatureDescription = \"this is a test to add a sampling feature\"\n",
    "    newsf.SamplingFeatureGeotypeCV = \"Point\"\n",
    "    newsf.SamplingFeatureTypeCV = sitesf0.SamplingFeatureTypeCV\n",
    "    newsf.SamplingFeatureUUID = sitesf0.SamplingFeatureUUID+\"2\"\n",
    "    session.add(newsf)\n",
    "    # To save the new sampling feature, do session.commit()\n",
    "    print(\"New sampling feature created, but not saved to database.\\n\")\n",
    "    print(newsf)\n",
    "except Exception as e :\n",
    "    print(\"error adding a sampling feature: {}\".format(e))"
   ]
  },
  {
   "cell_type": "markdown",
   "metadata": {},
   "source": [
    "### Get Objects and Related Objects from the Database (SamplingFeatures example)\n",
    "\n",
    "This code shows some examples of how objects and related objects can be retrieved using the API. In the following, we use the **getSamplingFeatures( )** function to return a particular sampling feature by passing in its SamplingFeatureCode. This function returns a list of SamplingFeature objects, so just get the first one in the returned list."
   ]
  },
  {
   "cell_type": "code",
   "execution_count": 17,
   "metadata": {},
   "outputs": [
    {
     "data": {
      "text/plain": [
       "odm2api.models.Sites"
      ]
     },
     "execution_count": 17,
     "metadata": {},
     "output_type": "execute_result"
    }
   ],
   "source": [
    "# Get the SamplingFeature object for a particular SamplingFeature by passing its SamplingFeatureCode\n",
    "sf = read.getSamplingFeatures(codes=['RB_1300E'])[0]\n",
    "type(sf)"
   ]
  },
  {
   "cell_type": "code",
   "execution_count": 18,
   "metadata": {},
   "outputs": [
    {
     "data": {
      "text/plain": [
       "{'ElevationDatumCV': u'EGM96',\n",
       " 'Elevation_m': 1356.0,\n",
       " 'FeatureGeometryWKT': None,\n",
       " 'Latitude': 40.745078,\n",
       " 'Longitude': -111.854449,\n",
       " 'SamplingFeatureCode': u'RB_1300E',\n",
       " 'SamplingFeatureDescription': None,\n",
       " 'SamplingFeatureGeotypeCV': None,\n",
       " 'SamplingFeatureID': 1,\n",
       " 'SamplingFeatureName': u'Red Butte Creek at 1300E (downstream of spring)',\n",
       " 'SamplingFeatureTypeCV': u'Site',\n",
       " 'SamplingFeatureUUID': u'0DDE8EF6-EC2F-42C0-AB50-20C6C02E89B2',\n",
       " 'SiteTypeCV': u'Stream',\n",
       " 'SpatialReferenceID': 1,\n",
       " '_sa_instance_state': <sqlalchemy.orm.state.InstanceState at 0x7ff53f6f3990>}"
      ]
     },
     "execution_count": 18,
     "metadata": {},
     "output_type": "execute_result"
    }
   ],
   "source": [
    "# Simple way to examine the content (properties) of a Python object, as if it were a dictionary\n",
    "vars(sf)"
   ]
  },
  {
   "cell_type": "markdown",
   "metadata": {},
   "source": [
    "You can also drill down and get objects linked by foreign keys. The API returns related objects in a nested hierarchy so they can be interrogated in an object oriented way. So, if I use the **getResults( )** function to return a Result from the database (e.g., a \"Measurement\" Result), I also get the associated Action that created that Result (e.g., a \"Specimen analysis\" Action)."
   ]
  },
  {
   "cell_type": "code",
   "execution_count": 19,
   "metadata": {},
   "outputs": [
    {
     "name": "stdout",
     "output_type": "stream",
     "text": [
      "('The FeatureAction object for the Result is: ', <FeatureActions({'FeatureActionID': 1, 'SamplingFeatureID': 26, 'ActionID': 1})>)\n",
      "('The Action object for the Result is: ', <Actions({'MethodID': 2, 'ActionDescription': None, 'ActionFileLink': None, 'EndDateTime': None, 'BeginDateTime': datetime.datetime(2014, 10, 30, 0, 0), 'BeginDateTimeUTCOffset': -7, 'ActionTypeCV': u'Specimen analysis', 'ActionID': 1, 'EndDateTimeUTCOffset': None})>)\n",
      "\n",
      "The following are some of the attributes for the Action that created the Result: \n",
      "ActionTypeCV: Specimen analysis\n",
      "ActionDescription: None\n",
      "BeginDateTime: 2014-10-30 00:00:00\n",
      "EndDateTime: None\n",
      "MethodName: Astoria Total Phosphorus\n",
      "MethodDescription: Determination of total phosphorus by persulphate oxidation digestion and ascorbic acid method\n"
     ]
    }
   ],
   "source": [
    "try:\n",
    "    # Call getResults, but return only the first Result\n",
    "    firstResult = read.getResults()[0]\n",
    "    frfa = firstResult.FeatureActionObj\n",
    "    frfaa = firstResult.FeatureActionObj.ActionObj\n",
    "    print(\"The FeatureAction object for the Result is: \", frfa)\n",
    "    print(\"The Action object for the Result is: \", frfaa)\n",
    "    \n",
    "    # Print some Action attributes in a more human readable form\n",
    "    print(\"\\nThe following are some of the attributes for the Action that created the Result: \")\n",
    "    print(\"ActionTypeCV: {}\".format(frfaa.ActionTypeCV))\n",
    "    print(\"ActionDescription: {}\".format(frfaa.ActionDescription))\n",
    "    print(\"BeginDateTime: {}\".format(frfaa.BeginDateTime))\n",
    "    print(\"EndDateTime: {}\".format(frfaa.EndDateTime))\n",
    "    print(\"MethodName: {}\".format(frfaa.MethodObj.MethodName))\n",
    "    print(\"MethodDescription: {}\".format(frfaa.MethodObj.MethodDescription))\n",
    "except Exception as e:\n",
    "    print(\"Unable to demo Foreign Key Example: {}\".format(e))"
   ]
  },
  {
   "cell_type": "markdown",
   "metadata": {},
   "source": [
    "### Get a Result and its Attributes\n",
    "\n",
    "Because all of the objects are returned in a nested form, if you retrieve a result, you can interrogate it to get all of its related attributes. When a Result object is returned, it includes objects that contain information about Variable, Units, ProcessingLevel, and the related Action that created that Result."
   ]
  },
  {
   "cell_type": "code",
   "execution_count": 20,
   "metadata": {},
   "outputs": [
    {
     "name": "stdout",
     "output_type": "stream",
     "text": [
      "------- Example of Retrieving Attributes of a Result -------\n",
      "The following are some of the attributes for the Result retrieved: \n",
      "ResultID: 1\n",
      "ResultTypeCV: Measurement\n",
      "ValueCount: 1\n",
      "ProcessingLevel: Raw Data\n",
      "SampledMedium: Liquid aqueous\n",
      "Variable: TP: Phosphorus, total\n",
      "Units: milligrams per liter\n",
      "SamplingFeatureID: 26\n",
      "SamplingFeatureCode: 3\n"
     ]
    }
   ],
   "source": [
    "print(\"------- Example of Retrieving Attributes of a Result -------\")\n",
    "try:\n",
    "    firstResult = read.getResults()[0]\n",
    "    frfa = firstResult.FeatureActionObj\n",
    "    print(\"The following are some of the attributes for the Result retrieved: \")\n",
    "    print(\"ResultID: {}\".format(firstResult.ResultID))\n",
    "    print(\"ResultTypeCV: {}\".format(firstResult.ResultTypeCV))\n",
    "    print(\"ValueCount: {}\".format(firstResult.ValueCount))\n",
    "    print(\"ProcessingLevel: {}\".format(firstResult.ProcessingLevelObj.Definition))\n",
    "    print(\"SampledMedium: {}\".format(firstResult.SampledMediumCV))\n",
    "    print(\"Variable: {}: {}\".format(firstResult.VariableObj.VariableCode, \n",
    "                                    firstResult.VariableObj.VariableNameCV))\n",
    "    print(\"Units: {}\".format(firstResult.UnitsObj.UnitsName))\n",
    "    print(\"SamplingFeatureID: {}\".format(frfa.SamplingFeatureObj.SamplingFeatureID))\n",
    "    print(\"SamplingFeatureCode: {}\".format(frfa.SamplingFeatureObj.SamplingFeatureCode))\n",
    "except Exception as e:\n",
    "    print(\"Unable to demo example of retrieving Attributes of a Result: {}\".format(e))"
   ]
  },
  {
   "cell_type": "markdown",
   "metadata": {},
   "source": [
    "The last block of code returns a particular Measurement Result. From that I can get the SamplingFeaureID (in this case 26) for the Specimen from which the Result was generated. But, if I want to figure out which Site the Specimen was collected at, I need to query the database to get the related Site SamplingFeature.  I can use **getRelatedSamplingFeatures( )** for this.  Once I've got the SamplingFeature for the Site, I could get the rest of the SamplingFeature attributes."
   ]
  },
  {
   "cell_type": "markdown",
   "metadata": {},
   "source": [
    "### Retrieve the \"Related\" Site at which a Specimen was collected"
   ]
  },
  {
   "cell_type": "code",
   "execution_count": 21,
   "metadata": {},
   "outputs": [],
   "source": [
    "# Pass the Sampling Feature ID of the specimen, and the relationship type\n",
    "relatedSite = read.getRelatedSamplingFeatures(sfid=26, relationshiptype='Was Collected at')[0]"
   ]
  },
  {
   "cell_type": "code",
   "execution_count": 22,
   "metadata": {},
   "outputs": [
    {
     "data": {
      "text/plain": [
       "{'ElevationDatumCV': u'EGM96',\n",
       " 'Elevation_m': 1356.0,\n",
       " 'FeatureGeometryWKT': None,\n",
       " 'Latitude': 40.745078,\n",
       " 'Longitude': -111.854449,\n",
       " 'SamplingFeatureCode': u'RB_1300E',\n",
       " 'SamplingFeatureDescription': None,\n",
       " 'SamplingFeatureGeotypeCV': None,\n",
       " 'SamplingFeatureID': 1,\n",
       " 'SamplingFeatureName': u'Red Butte Creek at 1300E (downstream of spring)',\n",
       " 'SamplingFeatureTypeCV': u'Site',\n",
       " 'SamplingFeatureUUID': u'0DDE8EF6-EC2F-42C0-AB50-20C6C02E89B2',\n",
       " 'SiteTypeCV': u'Stream',\n",
       " 'SpatialReferenceID': 1,\n",
       " '_sa_instance_state': <sqlalchemy.orm.state.InstanceState at 0x7ff53f6f3990>}"
      ]
     },
     "execution_count": 22,
     "metadata": {},
     "output_type": "execute_result"
    }
   ],
   "source": [
    "vars(relatedSite)"
   ]
  },
  {
   "cell_type": "markdown",
   "metadata": {},
   "source": [
    "-----------------------------------------\n",
    "\n",
    "## Return Results and Data Values for a Particular Site/Variable\n",
    "\n",
    "From the list of Variables returned above and the information about the SamplingFeature I queried above, I know that VariableID = 2 for Total Phosphorus and SiteID = 1 for the Red Butte Creek site at 1300E. I can use the **getResults( )** function to get all of the Total Phosphorus results for this site by passing in the VariableID and the SiteID."
   ]
  },
  {
   "cell_type": "code",
   "execution_count": 23,
   "metadata": {},
   "outputs": [],
   "source": [
    "siteID = 1  # Red Butte Creek at 1300 E (obtained from the getRelatedSamplingFeatures query)"
   ]
  },
  {
   "cell_type": "code",
   "execution_count": 24,
   "metadata": {},
   "outputs": [
    {
     "data": {
      "text/plain": [
       "18"
      ]
     },
     "execution_count": 24,
     "metadata": {},
     "output_type": "execute_result"
    }
   ],
   "source": [
    "v = variables_df[variables_df['VariableCode'] == 'TP']\n",
    "variableID = v.index[0]\n",
    "\n",
    "results = read.getResults(siteid=siteID, variableid=variableID, restype=\"Measurement\")\n",
    "# Get the list of ResultIDs so I can retrieve the data values associated with all of the results\n",
    "resultIDList = [x.ResultID for x in results]\n",
    "len(resultIDList)"
   ]
  },
  {
   "cell_type": "markdown",
   "metadata": {},
   "source": [
    "### Retrieve the Result (Data) Values, Then Create a Quick Time Series Plot of the Data\n",
    "\n",
    "Now I can retrieve all of the data values associated with the list of Results I just retrieved. In ODM2, water chemistry measurements are stored as \"Measurement\" results. Each \"Measurement\" Result has a single data value associated with it. So, for convenience, the **getResultValues( )** function allows you to pass in a list of ResultIDs so you can get the data values for all of them back in a Pandas data frame object, which is easier to work with. Once I've got the data in a Pandas data frame object, I can use the **plot( )** function directly on the data frame to create a quick visualization."
   ]
  },
  {
   "cell_type": "code",
   "execution_count": 25,
   "metadata": {},
   "outputs": [
    {
     "data": {
      "text/html": [
       "<div>\n",
       "<style scoped>\n",
       "    .dataframe tbody tr th:only-of-type {\n",
       "        vertical-align: middle;\n",
       "    }\n",
       "\n",
       "    .dataframe tbody tr th {\n",
       "        vertical-align: top;\n",
       "    }\n",
       "\n",
       "    .dataframe thead th {\n",
       "        text-align: right;\n",
       "    }\n",
       "</style>\n",
       "<table border=\"1\" class=\"dataframe\">\n",
       "  <thead>\n",
       "    <tr style=\"text-align: right;\">\n",
       "      <th></th>\n",
       "      <th>ValueID</th>\n",
       "      <th>ResultID</th>\n",
       "      <th>DataValue</th>\n",
       "      <th>ValueDateTime</th>\n",
       "      <th>ValueDateTimeUTCOffset</th>\n",
       "    </tr>\n",
       "  </thead>\n",
       "  <tbody>\n",
       "    <tr>\n",
       "      <th>0</th>\n",
       "      <td>1</td>\n",
       "      <td>1</td>\n",
       "      <td>0.0100</td>\n",
       "      <td>2015-10-27 13:26:24</td>\n",
       "      <td>-7</td>\n",
       "    </tr>\n",
       "    <tr>\n",
       "      <th>1</th>\n",
       "      <td>100</td>\n",
       "      <td>1</td>\n",
       "      <td>0.0100</td>\n",
       "      <td>2015-11-17 13:55:12</td>\n",
       "      <td>-7</td>\n",
       "    </tr>\n",
       "    <tr>\n",
       "      <th>2</th>\n",
       "      <td>109</td>\n",
       "      <td>10</td>\n",
       "      <td>0.0574</td>\n",
       "      <td>2015-05-12 14:24:00</td>\n",
       "      <td>-7</td>\n",
       "    </tr>\n",
       "    <tr>\n",
       "      <th>3</th>\n",
       "      <td>10</td>\n",
       "      <td>10</td>\n",
       "      <td>0.0574</td>\n",
       "      <td>2015-06-18 12:43:12</td>\n",
       "      <td>-7</td>\n",
       "    </tr>\n",
       "    <tr>\n",
       "      <th>4</th>\n",
       "      <td>198</td>\n",
       "      <td>99</td>\n",
       "      <td>0.0424</td>\n",
       "      <td>2015-10-27 13:55:12</td>\n",
       "      <td>-7</td>\n",
       "    </tr>\n",
       "  </tbody>\n",
       "</table>\n",
       "</div>"
      ],
      "text/plain": [
       "   ValueID  ResultID  DataValue       ValueDateTime  ValueDateTimeUTCOffset\n",
       "0        1         1     0.0100 2015-10-27 13:26:24                      -7\n",
       "1      100         1     0.0100 2015-11-17 13:55:12                      -7\n",
       "2      109        10     0.0574 2015-05-12 14:24:00                      -7\n",
       "3       10        10     0.0574 2015-06-18 12:43:12                      -7\n",
       "4      198        99     0.0424 2015-10-27 13:55:12                      -7"
      ]
     },
     "execution_count": 25,
     "metadata": {},
     "output_type": "execute_result"
    }
   ],
   "source": [
    "# Get all of the data values for the Results in the list created above\n",
    "# Call getResultValues, which returns a Pandas Data Frame with the data\n",
    "resultValues = read.getResultValues(resultids=resultIDList, lowercols=False)\n",
    "resultValues.head()"
   ]
  },
  {
   "cell_type": "code",
   "execution_count": 26,
   "metadata": {},
   "outputs": [
    {
     "data": {
      "image/png": "[encoded data removed]",
      "text/plain": [
       "<Figure size 432x288 with 1 Axes>"
      ]
     },
     "metadata": {
      "needs_background": "light"
     },
     "output_type": "display_data"
    }
   ],
   "source": [
    "# Plot the time sequence of Measurement Result Values \n",
    "ax = resultValues.plot(x='ValueDateTime', y='DataValue', title=relatedSite.SamplingFeatureName,\n",
    "                       kind='line', use_index=True, linestyle='solid', style='o')\n",
    "ax.set_ylabel(\"{0} ({1})\".format(results[0].VariableObj.VariableNameCV, \n",
    "                                 results[0].UnitsObj.UnitsAbbreviation))\n",
    "ax.set_xlabel('Date/Time')\n",
    "ax.legend().set_visible(False)"
   ]
  },
  {
   "cell_type": "markdown",
   "metadata": {},
   "source": [
    "### End with a fancier plot, facilitated via a function\n",
    "\n",
    "If I'm going to reuse a series of steps, it's always helpful to write little generic functions that can be called to quickly and consistently get what we need. To conclude this demo, here's one such function that encapsulates the `VariableID`, `getResults` and `getResultValues` queries we showed above. Then we leverage it to create a nice 2-variable (2-axis) plot of TP and TN vs time, and conclude with a reminder that we have ready access to related metadata about analytical lab methods and such."
   ]
  },
  {
   "cell_type": "code",
   "execution_count": 27,
   "metadata": {},
   "outputs": [],
   "source": [
    "def get_results_and_values(siteid, variablecode):\n",
    "    v = variables_df[variables_df['VariableCode'] == variablecode]\n",
    "    variableID = v.index[0]\n",
    "    \n",
    "    results = read.getResults(siteid=siteid, variableid=variableID, restype=\"Measurement\")\n",
    "    resultIDList = [x.ResultID for x in results]\n",
    "    resultValues = read.getResultValues(resultids=resultIDList, lowercols=False)\n",
    "    \n",
    "    return resultValues, results"
   ]
  },
  {
   "cell_type": "markdown",
   "metadata": {},
   "source": [
    "Fancy plotting, leveraging the `Pandas` plot method and `matplotlib`."
   ]
  },
  {
   "cell_type": "code",
   "execution_count": 28,
   "metadata": {},
   "outputs": [
    {
     "data": {
      "image/png": "[encoded data removed]",
      "text/plain": [
       "<Figure size 936x432 with 2 Axes>"
      ]
     },
     "metadata": {
      "needs_background": "light"
     },
     "output_type": "display_data"
    }
   ],
   "source": [
    "# Plot figure and axis set up\n",
    "f, ax = plt.subplots(1, figsize=(13, 6))\n",
    "\n",
    "# First plot (left axis)\n",
    "VariableCode = 'TP'\n",
    "resultValues_TP, results_TP = get_results_and_values(siteID, VariableCode)\n",
    "resultValues_TP.plot(x='ValueDateTime', y='DataValue', label=VariableCode, \n",
    "                     style='o-', kind='line', ax=ax)\n",
    "ax.set_ylabel(\"{0}: {1} ({2})\".format(VariableCode, results_TP[0].VariableObj.VariableNameCV, \n",
    "                                      results_TP[0].UnitsObj.UnitsAbbreviation))\n",
    "\n",
    "# Second plot (right axis)\n",
    "VariableCode = 'TN'\n",
    "resultValues_TN, results_TN = get_results_and_values(siteID, VariableCode)\n",
    "resultValues_TN.plot(x='ValueDateTime', y='DataValue', label=VariableCode, \n",
    "                     style='^-', kind='line', ax=ax,\n",
    "                     secondary_y=True)\n",
    "ax.right_ax.set_ylabel(\"{0}: {1} ({2})\".format(VariableCode, results_TN[0].VariableObj.VariableNameCV, \n",
    "                                               results_TN[0].UnitsObj.UnitsAbbreviation))\n",
    "\n",
    "# Tweak the figure\n",
    "ax.legend(loc='upper left')\n",
    "ax.right_ax.legend(loc='upper right')\n",
    "\n",
    "ax.grid(True)\n",
    "ax.set_xlabel('')\n",
    "ax.set_title(relatedSite.SamplingFeatureName);"
   ]
  },
  {
   "cell_type": "markdown",
   "metadata": {},
   "source": [
    "Finally, let's show some useful metadata. Use the `Results` records and their relationship to `Actions` (via `FeatureActions`) to **extract and print out the Specimen Analysis methods used for TN and TP**. Or at least for the *first* result for each of the two variables; methods may have varied over time, but the specific method associated with each result is stored in ODM2 and available."
   ]
  },
  {
   "cell_type": "code",
   "execution_count": 29,
   "metadata": {},
   "outputs": [
    {
     "name": "stdout",
     "output_type": "stream",
     "text": [
      "TP METHOD:  Astoria Total Phosphorus (Determination of total phosphorus by persulphate oxidation digestion and ascorbic acid method)\n",
      "TN METHOD:  Astoria Total Nitrogen (Determination of total Nitrogen by persulphate oxidation digestion and cadmium reduction method)\n"
     ]
    }
   ],
   "source": [
    "results_faam = lambda results, i: results[i].FeatureActionObj.ActionObj.MethodObj\n",
    "\n",
    "print(\"TP METHOD:  {0} ({1})\".format(results_faam(results_TP, 0).MethodName,\n",
    "                                     results_faam(results_TP, 0).MethodDescription))\n",
    "print(\"TN METHOD:  {0} ({1})\".format(results_faam(results_TN, 0).MethodName,\n",
    "                                     results_faam(results_TN, 0).MethodDescription))"
   ]
  },
  {
   "cell_type": "code",
   "execution_count": null,
   "metadata": {},
   "outputs": [],
   "source": []
  }
 ],
 "metadata": {
  "kernelspec": {
   "display_name": "Python [conda env:odm2api_dev]",
   "language": "python",
   "name": "conda-env-odm2api_dev-py"
  },
  "language_info": {
   "codemirror_mode": {
    "name": "ipython",
    "version": 2
   },
   "file_extension": ".py",
   "mimetype": "text/x-python",
   "name": "python",
   "nbconvert_exporter": "python",
   "pygments_lexer": "ipython2",
   "version": "2.7.15"
  }
 },
 "nbformat": 4,
 "nbformat_minor": 2
}
