{
 "cells": [
  {
   "cell_type": "code",
   "execution_count": 30,
   "metadata": {
    "collapsed": false
   },
   "outputs": [],
   "source": [
    "__author__ = 'stephanie'\n",
    "\n",
    "#Demo Created and run against little bear river demo database. scripts are located at \n",
    "#https://github.com/ODM2/ODM2/tree/master/usecases/littlebearriver/sampledatabases\n",
    "\n",
    "import matplotlib.pyplot as plt\n",
    "from matplotlib import dates\n",
    "%matplotlib notebook\n",
    "# inline\n",
    "\n",
    "from odm2api.ODMconnection import dbconnection\n",
    "from odm2api.ODM2.services.readService import *\n",
    "\n",
    "\n",
    "# Create a connection to the ODM2 database\n",
    "# ----------------------------------------\n",
    "\n",
    "#createconnection (dbtype, servername, dbname, username, password)\n",
    "session_factory = dbconnection.createConnection('mysql', 'localhost', 'ODM2', 'ODM', 'odm')#mysql\n",
    "#session_factory = dbconnection.createConnection('connection type: sqlite|mysql|mssql|postgresql', '/your/path/to/db/goes/here', 2.0)#sqlite\n",
    "# session_factory= dbconnection.createConnection('mssql', \"(local)\", \"LBRODM2\", \"ODM\", \"odm\")#win MSSQL\n",
    "# session_factory= dbconnection.createConnection('mssql', \"odm2\", \"\", \"ODM\", \"odm\")#mac/linux MSSQL"
   ]
  },
  {
   "cell_type": "code",
   "execution_count": 31,
   "metadata": {
    "collapsed": false
   },
   "outputs": [],
   "source": [
    "_session = session_factory.getSession()\n",
    "\n",
    "read = ReadODM2(session_factory)"
   ]
  },
  {
   "cell_type": "code",
   "execution_count": 32,
   "metadata": {
    "collapsed": false
   },
   "outputs": [
    {
     "name": "stdout",
     "output_type": "stream",
     "text": [
      "USU3: Battery voltage\nUSU4: Turbidity\nUSU5: Turbidity\nUSU6: Turbidity\nUSU7: Turbidity\nUSU8: Turbidity\nUSU9: Turbidity\nUSU10: Temperature\nUSU13: Gage height\nUSU14: Temperature\nUSU15: Relative humidity\nUSU16: Precipitation\nUSU17: Battery voltage\nUSU18: Wind speed\nUSU19: Wind direction\nUSU20: Wind direction\nUSU21: Barometric pressure\nUSU22: Radiation, incoming shortwave\nUSU23: Battery voltage\nUSU24: Wind speed\nUSU25: Temperature\nUSU26: Temperature\nUSU27: Temperature\nUSU28: Relative humidity\nUSU29: Barometric pressure\nUSU30: Precipitation\nUSU31: Radiation, incoming shortwave\nUSU32: Oxygen, dissolved\nUSU33: Oxygen, dissolved percent of saturation\nUSU34: Specific conductance\nUSU35: pH\nUSU36: Temperature\nUSU37: Turbidity\nUSU39: Phosphorus, total\nUSU40: Phosphorus, total dissolved\nUSU41: Solids, total Suspended\nUSU44: Discharge\nUSU47: Solids, total suspended\nUSU48: Phosphorus, total\nUSU49: Distance\nUSU50: Snow Depth\nUSU51: Distance\nUSU52: Distance\nUSU53: Distance\nUSU54: Snow Depth\nUSU55: Snow Depth\nUSU56: Snow Depth\nUSU57: Volumetric water content\nUSU58: Electrical conductivity\nUSU59: Temperature\nUSU60: Temperature\nUSU61: Real dielectric constant\nUSU62: Imaginary dielectric constant\nUSU63: Alkalinity, carbonate plus bicarbonate\nUSU64: Nitrogen, total dissolved\nUSU65: Nitrogen, total\ntester: Wind speed\nTN: Nitrogen, total\nTP: Phosphorus, total\nTcoliform: Coliform, total\nE-coli: E-coli\nD180: delta-18O of H2O\nD2H: delta-D of H2O\n"
     ]
    }
   ],
   "source": [
    "# Run some basic sample queries.\n",
    "# ------------------------------\n",
    "# Get all of the variables from the database and print their names to the console\n",
    "allVars = read.getVariables()\n",
    "\n",
    "for x in allVars:\n",
    "    print x.VariableCode + \": \" + x.VariableNameCV"
   ]
  },
  {
   "cell_type": "code",
   "execution_count": 9,
   "metadata": {
    "collapsed": false
   },
   "outputs": [
    {
     "name": "stdout",
     "output_type": "stream",
     "text": [
      "Jeff Horsburgh\nNancy Mesner\nAmber Spackman\nErin Jones\nJanet Barnette\nJason Bahr\nChris Cox\nUnknown Person\nLisa Ward\n\n-------- Information about an Affiliation ---------\nJeff: 1\nJeff: 2\nAmber: 3\nNancy: 4\nAmber: 6\nJeff: 6\nErin: 46\nJanet: 48\nJason: 45\nChris: 45\nUnknown: 45\nLisa: 47\n"
     ]
    }
   ],
   "source": [
    "# Get all of the people from the database\n",
    "allPeople = read.getPeople()\n",
    "\n",
    "for x in allPeople:\n",
    "    print x.PersonFirstName + \" \" + x.PersonLastName\n",
    "\n",
    "try:\n",
    "    print \"\\n-------- Information about an Affiliation ---------\"\n",
    "    allaff = read.getAffiliations()\n",
    "    for x in allaff:\n",
    "        print x.PersonObj.PersonFirstName + \": \" + str(x.OrganizationID)\n",
    "except Exception as e:\n",
    "    print \"Unable to demo getAllAffiliations\", e"
   ]
  },
  {
   "cell_type": "code",
   "execution_count": 33,
   "metadata": {
    "collapsed": false
   },
   "outputs": [
    {
     "name": "stdout",
     "output_type": "stream",
     "text": [
      "\n-------- Information about an SamplingFeature of type 'Site'---------\nUSU-LBR-Mendon: Little Bear River at Mendon Road near Mendon, Utah\nUSU-LBR-SFWeather: Little Bear River South Fork Weather Station near Avon, Utah\nUnable to demo getSamplingFeaturesByType cannot concatenate 'str' and 'NoneType' objects\n\n-------- Information about an individual SamplingFeature ---------\nThe following are some of the attributes of a SamplingFeature retrieved using getSamplingFeatureByCode(): \n\nSamplingFeatureCode: USU-LBR-Mendon\nSamplingFeatureName: Little Bear River at Mendon Road near Mendon, Utah\nSamplingFeatureDescription: Located below county road bridge at Mendon Road crossing\nSamplingFeatureGeotypeCV: Point\nSamplingFeatureGeometry: \u0000\u0000\u0000\u0000\u0001\u0001\u0000\u0000\u0000·±Ùü[À\u0007[ìöÛD@\nElevation_m: 1345.0\n"
     ]
    }
   ],
   "source": [
    "# Get all of the SamplingFeatures from the database that are Sites\n",
    "\n",
    "try:\n",
    "    siteFeatures = read.getSamplingFeatures(type='Site')\n",
    "    numSites = len(siteFeatures)\n",
    "    print \"\\n-------- Information about an SamplingFeature of type 'Site'---------\"\n",
    "    for x in siteFeatures:\n",
    "        print x.SamplingFeatureCode + \": \" + x.SamplingFeatureName\n",
    "except Exception as e:\n",
    "    print \"Unable to demo getSamplingFeaturesByType\", e\n",
    "\n",
    "\n",
    "# Now get the SamplingFeature object for a SamplingFeature code\n",
    "try:\n",
    "    sf = read.getSamplingFeatures(codes= ['USU-LBR-Mendon'])[0]\n",
    "    \n",
    "    print \"\\n-------- Information about an individual SamplingFeature ---------\"\n",
    "    print \"The following are some of the attributes of a SamplingFeature retrieved using getSamplingFeatureByCode(): \\n\"\n",
    "    print \"SamplingFeatureCode: \" + sf.SamplingFeatureCode\n",
    "    print \"SamplingFeatureName: \" + sf.SamplingFeatureName\n",
    "    print \"SamplingFeatureDescription: %s\" % sf.SamplingFeatureDescription\n",
    "    print \"SamplingFeatureGeotypeCV: %s\" % sf.SamplingFeatureGeotypeCV\n",
    "    print \"SamplingFeatureGeometry: %s\" % sf.FeatureGeometry\n",
    "    print \"Elevation_m: %s\" % str(sf.Elevation_m)\n",
    "except Exception as e:\n",
    "    print \"Unable to demo getSamplingFeatureByCode: \", e"
   ]
  },
  {
   "cell_type": "code",
   "execution_count": 14,
   "metadata": {
    "collapsed": false
   },
   "outputs": [
    {
     "name": "stdout",
     "output_type": "stream",
     "text": [
      "\n------------ Create Sampling Feature --------- \nnew sampling feature added to database <SamplingFeatures('TestSF', 'None', 'this is a test to add Feature Geomotry', '100', 'None')>\n"
     ]
    }
   ],
   "source": [
    "#add sampling feature\n",
    "print \"\\n------------ Create Sampling Feature --------- \\n\",\n",
    "try:\n",
    "    from odm2api.ODM2.models import SamplingFeatures\n",
    "    newsf = SamplingFeatures()\n",
    "    session = session_factory.getSession()\n",
    "    newsf.FeatureGeometry = \"POINT(-111.946 41.718)\"\n",
    "    newsf.Elevation_m=100\n",
    "    newsf.ElevationDatumCV=sf.ElevationDatumCV\n",
    "    newsf.SamplingFeatureCode= \"TestSF\"\n",
    "    newsf.SamplingFeatureDescription = \"this is a test to add Feature Geomotry\"\n",
    "    newsf.SamplingFeatureGeotypeCV= \"Point\"\n",
    "    newsf.SamplingFeatureTypeCV=sf.SamplingFeatureTypeCV\n",
    "    newsf.SamplingFeatureUUID= sf.SamplingFeatureUUID+\"2\"\n",
    "    session.add(newsf)\n",
    "    #session.commit()\n",
    "    print \"new sampling feature added to database\", newsf\n",
    "\n",
    "except Exception as e :\n",
    "    print \"error adding a sampling feature: \" + str(e)"
   ]
  },
  {
   "cell_type": "code",
   "execution_count": 34,
   "metadata": {
    "collapsed": false
   },
   "outputs": [
    {
     "name": "stdout",
     "output_type": "stream",
     "text": [
      "\n------------ Foreign Key Example --------- \nUnable to demo Foreign Key Example:  'ReadODM2' object has no attribute 'getResult'\n"
     ]
    }
   ],
   "source": [
    "# Drill down and get objects linked by foreign keys\n",
    "print \"\\n------------ Foreign Key Example --------- \\n\",\n",
    "try:\n",
    "    # Call getResults, but return only the first result\n",
    "    firstResult = read.getResult()[0]\n",
    "    print \"The FeatureAction object for the Result is: \", firstResult.FeatureActionObj\n",
    "    print \"The Action object for the Result is: \", firstResult.FeatureActionObj.ActionObj\n",
    "    print (\"\\nThe following are some of the attributes for the Action that created the Result: \\n\" +\n",
    "           \"ActionTypeCV: \" + firstResult.FeatureActionObj.ActionObj.ActionTypeCV + \"\\n\" +\n",
    "           \"ActionDescription: \" + firstResult.FeatureActionObj.ActionObj.ActionDescription + \"\\n\" +\n",
    "           \"BeginDateTime: \" + str(firstResult.FeatureActionObj.ActionObj.BeginDateTime) + \"\\n\" +\n",
    "           \"EndDateTime: \" + str(firstResult.FeatureActionObj.ActionObj.EndDateTime) + \"\\n\" +\n",
    "           \"MethodName: \" + firstResult.FeatureActionObj.ActionObj.MethodObj.MethodName + \"\\n\" +\n",
    "           \"MethodDescription: \" + firstResult.FeatureActionObj.ActionObj.MethodObj.MethodDescription)\n",
    "except Exception as e:\n",
    "    print \"Unable to demo Foreign Key Example: \", e"
   ]
  },
  {
   "cell_type": "code",
   "execution_count": 28,
   "metadata": {
    "collapsed": false
   },
   "outputs": [
    {
     "name": "stdout",
     "output_type": "stream",
     "text": [
      "\n------- Example of Retrieving Attributes of a Time Series Result -------\nThe following are some of the attributes for the TimeSeriesResult retrieved using getTimeSeriesResultByResultID(): \nResultTypeCV: Time series coverage\nProcessingLevel: Raw data\nSampledMedium: Not applicable\nVariable: USU3: Battery voltage\nAggregationStatistic: Minimum\nElevation_m: 1345.0\nSamplingFeature: USU-LBR-Mendon - Little Bear River at Mendon Road near Mendon, Utah\n"
     ]
    }
   ],
   "source": [
    "# Now get a particular Result using a ResultID\n",
    "print \"\\n------- Example of Retrieving Attributes of a Time Series Result -------\"\n",
    "try:\n",
    "    #tsResult = read.getTimeSeriesResultByResultId(1)\n",
    "    tsResult = read.getResults(ids = [1])[0]\n",
    "    print (\n",
    "        \"The following are some of the attributes for the TimeSeriesResult retrieved using getTimeSeriesResultByResultID(): \\n\" +\n",
    "        \"ResultTypeCV: \" + tsResult.ResultTypeCV + \"\\n\" +\n",
    "        # Get the ProcessingLevel from the TimeSeriesResult's ProcessingLevel object\n",
    "        \"ProcessingLevel: \" + tsResult.ProcessingLevelObj.Definition + \"\\n\" +\n",
    "        \"SampledMedium: \" + tsResult.SampledMediumCV + \"\\n\" +\n",
    "        # Get the variable information from the TimeSeriesResult's Variable object\n",
    "        \"Variable: \" + tsResult.VariableObj.VariableCode + \": \" + tsResult.VariableObj.VariableNameCV + \"\\n\"\n",
    "                                                                                                        \"AggregationStatistic: \" + tsResult.AggregationStatisticCV + \"\\n\" +\n",
    "        \"Elevation_m: \" + str(sf.Elevation_m) + \"\\n\" +\n",
    "        # Get the site information by drilling down\n",
    "        \"SamplingFeature: \" + tsResult.FeatureActionObj.SamplingFeatureObj.SamplingFeatureCode + \" - \" +\n",
    "        tsResult.FeatureActionObj.SamplingFeatureObj.SamplingFeatureName)\n",
    "except Exception as e:\n",
    "    print \"Unable to demo Example of retrieving Attributes of a time Series Result: \", e"
   ]
  },
  {
   "cell_type": "code",
   "execution_count": 27,
   "metadata": {
    "collapsed": false
   },
   "outputs": [
    {
     "name": "stdout",
     "output_type": "stream",
     "text": [
      "\n-------- Example of Retrieving Time Series Result Values ---------\n   ValueID  ResultID  DataValue       ValueDateTime  ValueDateTimeUTCOffset  \\\n0  2240358         1   12.51435 2007-09-01 00:00:00                      -7   \n1  2240541         1   12.51519 2007-09-01 00:30:00                      -7   \n2  2350031         1   12.50344 2007-09-01 01:00:00                      -7   \n3  2234346         1   12.49085 2007-09-01 01:30:00                      -7   \n4  2344012         1   12.48413 2007-09-01 02:00:00                      -7   \n\n   CensorCodeCV QualityCodeCV  TimeAggregationInterval  \\\n0  Not censored       Unknown                     30.0   \n1  Not censored       Unknown                     30.0   \n2  Not censored       Unknown                     30.0   \n3  Not censored       Unknown                     30.0   \n4  Not censored       Unknown                     30.0   \n\n   TimeAggregationIntervalUnitsID  \n0                             102  \n1                             102  \n2                             102  \n3                             102  \n4                             102  \nUnable to demo plotting of tsValues:  name 'plt' is not defined\n"
     ]
    }
   ],
   "source": [
    "# Get the values for a particular TimeSeriesResult\n",
    "print \"\\n-------- Example of Retrieving Time Series Result Values ---------\"\n",
    "\n",
    "\n",
    "tsValues = read.getResultValues(resultid =1)  # Return type is a pandas dataframe\n",
    "# Print a few Time Series Values to the console\n",
    "try:\n",
    "    print tsValues.head()\n",
    "except Exception as e:\n",
    "    print e\n",
    "\n",
    "# Plot the time series\n",
    "\n",
    "try:\n",
    "    fig = plt.figure()\n",
    "    ax = fig.add_subplot(111)\n",
    "    tsValues.plot(x='ValueDateTime', y='DataValue', kind='line',\n",
    "                  title=tsResult.VariableObj.VariableNameCV + \" at \" + tsResult.FeatureActionObj.SamplingFeatureObj.SamplingFeatureName,\n",
    "                  ax=ax)\n",
    "    ax.set_ylabel(tsResult.VariableObj.VariableNameCV + \" (\" + tsResult.UnitsObj.UnitsAbbreviation + \")\")\n",
    "    ax.set_xlabel(\"Date/Time\")\n",
    "    ax.xaxis.set_minor_locator(dates.MonthLocator())\n",
    "    ax.xaxis.set_minor_formatter(dates.DateFormatter('%b'))\n",
    "    ax.xaxis.set_major_locator(dates.YearLocator())\n",
    "    ax.xaxis.set_major_formatter(dates.DateFormatter('\\n%Y'))\n",
    "    ax.grid(True)\n",
    "    plt.show()\n",
    "except Exception as e:\n",
    "    print \"Unable to demo plotting of tsValues: \", e"
   ]
  }
 ],
 "metadata": {
  "kernelspec": {
   "display_name": "Python 2",
   "language": "python",
   "name": "python2"
  },
  "language_info": {
   "codemirror_mode": {
    "name": "ipython",
    "version": 2.0
   },
   "file_extension": ".py",
   "mimetype": "text/x-python",
   "name": "python",
   "nbconvert_exporter": "python",
   "pygments_lexer": "ipython2",
   "version": "2.7.11"
  }
 },
 "nbformat": 4,
 "nbformat_minor": 0
}